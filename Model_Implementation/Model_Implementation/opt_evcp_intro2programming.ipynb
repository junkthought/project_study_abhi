{
 "cells": [
  {
   "cell_type": "markdown",
   "metadata": {},
   "source": [
    "# Optimal EV Charging Pricing - Programming Tutorial\n",
    "*Written by @Gen Li - gen.li@tum.de with the help of ChatGPT*"
   ]
  },
  {
   "cell_type": "markdown",
   "metadata": {},
   "source": [
    "\n",
    "## 1. Introduction to Jupyter Notebook in VS Code, Anaconda, and Copilot Student Developer License\n",
    "\n",
    "#### 1.1 Setting Up Jupyter Notebook in VS Code\n",
    "\n",
    "- Install Visual Studio Code from [here](https://code.visualstudio.com/)\n",
    "- Install the Python extension for VS Code\n",
    "- Install Jupyter extension for VS Code\n",
    "\n",
    "#### 1.2 Setting Up Anaconda Environment\n",
    "\n",
    "- Download and install Anaconda from [here](https://www.anaconda.com/products/distribution)\n",
    "- Create a new environment using Anaconda Navigator or command line:\n",
    "  ```bash\n",
    "  conda create -n optevcp python=3.9\n",
    "  conda activate optevcp\n",
    "  ```\n",
    "- Install necessary packages in your environment:\n",
    "  ```bash\n",
    "  conda install jupyter\n",
    "  conda install -c conda-forge pyomo\n",
    "  conda install -c anaconda networkx\n",
    "  ```\n",
    "\n",
    "> [Pyomo](https://www.pyomo.org/): Pyomo is a Python-based, open-source optimization modeling language used for defining and solving mathematical models, with a diverse set of optimization capabilities. -> Check the [documentation](https://readthedocs.org/projects/pyomo/downloads/pdf/latest/).\n",
    "\n",
    "> [NetworkX](https://networkx.org/) is a Python package for the creation, manipulation, and study of complex networks of nodes and edges.\n",
    "#### 1.3 Get [Cplex](https://www.ibm.com/de-de/products/ilog-cplex-optimization-studio) solver with [education license](https://community.ibm.com/community/user/ai-datascience/blogs/xavier-nodet1/2020/07/09/cplex-free-for-students) and [set it up](https://or.stackexchange.com/questions/4366/downloading-and-setting-up-cplex-for-pyomo) for Pyomo.\n",
    "Cplex is a high-performance mathematical programming solver for linear programming, mixed integer programming, and other related problems.\n",
    "\n",
    "#### 1.4 Copilot Student Developer License\n",
    "\n",
    "- Sign up for the GitHub Student Developer Pack [here](https://techcommunity.microsoft.com/t5/educator-developer-blog/step-by-step-setting-up-github-student-and-github-copilot-as-an/ba-p/3736279)\n",
    "- Follow instructions to activate your Copilot license in VS Code\n"
   ]
  },
  {
   "cell_type": "code",
   "execution_count": 1,
   "metadata": {},
   "outputs": [],
   "source": [
    "# Code block to allow import of modules from parent directory, reducing error when load files.\n",
    "\n",
    "import os, sys\n",
    "currentdir = os.path.dirname(os.path.realpath(''))\n",
    "parentdir = os.path.dirname(currentdir)\n",
    "sys.path.append(currentdir)"
   ]
  },
  {
   "cell_type": "markdown",
   "metadata": {},
   "source": [
    "## 2. Modelling example: [Facility location problem](https://scipbook.readthedocs.io/en/latest/flp.html)"
   ]
  },
  {
   "cell_type": "markdown",
   "metadata": {},
   "source": [
    "#### 3.1 Mathematical Formulation\n",
    "\n",
    "The Capacitated Facility Location Problem (CFLP) can be described as follows:\n",
    "$$\n",
    "\\begin{align*}\n",
    "\\text{Minimize} \\quad & \\sum_{i \\in I} f_i x_i + \\sum_{i \\in I} \\sum_{j \\in J} c_{ij} y_{ij} \\\\\n",
    "\\text{Subject to} \\quad & \\sum_{i \\in I} y_{ij} = d_j \\quad \\forall j \\in J\\\\\n",
    "                        & \\sum_{j \\in J} y_{ij} \\leq M_i x_i \\quad \\forall i \\in I \\\\\n",
    "                        & y_{ij} \\geq 0 \\quad \\forall i \\in I, j \\in J \\\\\n",
    "                        & x_i \\in \\{0, 1\\} \\quad \\forall i \\in I\n",
    "\\end{align*}\n",
    "$$\n",
    "\n",
    "### Problem Description\n",
    "\n",
    "Given a set of potential facility locations and a set of customers with specific demands, the objective is to determine the optimal locations to open facilities and the optimal transportation plan from facilities to customers, such that the total cost is minimized while satisfying customer demands and not exceeding facility capacities.\n",
    "\n",
    "Questions: \n",
    "- Which are variables, parameters?\n",
    "- How to interpret the objective functions and constraints?\n"
   ]
  },
  {
   "cell_type": "markdown",
   "metadata": {},
   "source": [
    "\n",
    "##### Decision Variables\n",
    "- $ x_i $: Binary variable indicating if facility $ i $ is opened.\n",
    "- $ y_{ij} $: Continuous variable indicating the amount of *goods* transported from facility $ i $ to customer $ j $.\n",
    "\n",
    "##### Parameters\n",
    "- $ f_i $: Fixed cost of opening facility $ i $.\n",
    "- $ c_{ij} $: Transportation cost of serving customer $ j $ from facility $ i $.\n",
    "- $ d_j $: Demand of customer $ j $.\n",
    "- $ M_i $: Capacity of facility $ i $.\n",
    "\n",
    "##### Objective\n",
    "Minimize the total cost of opening facilities and transporting goods from facilities to customers.\n",
    "$$\n",
    "\\text{Minimize} \\quad \\sum_{i} f_i x_i + \\sum_{i} \\sum_{j} c_{ij} y_{ij}\n",
    "$$\n",
    "\n",
    "##### Constraints\n",
    "1. **Demand Satisfaction**: Each customer’s demand must be satisfied by the facilities.\n",
    "$$\n",
    "\\sum_{i} y_{ij} = d_j \\quad \\forall j\n",
    "$$\n",
    "\n",
    "2. **Capacity Constraints**: The total goods transported from a facility must not exceed its capacity.\n",
    "$$\n",
    "\\sum_{j} y_{ij} \\leq M_i x_i \\quad \\forall i\n",
    "$$\n",
    "\n",
    "3. **Non-negativity and Binary Constraints**:\n",
    "$$\n",
    "y_{ij} \\geq 0 \\quad \\forall i, j\n",
    "$$\n",
    "$$\n",
    "x_i \\in \\{0, 1\\} \\quad \\forall i\n",
    "$$\n",
    "\n",
    "\n",
    "\n"
   ]
  },
  {
   "cell_type": "code",
   "execution_count": 10,
   "metadata": {},
   "outputs": [],
   "source": [
    "import pyomo.environ as pyo\n",
    "import networkx as nx\n",
    "import pandas as pd\n",
    "import matplotlib.pyplot as plt\n",
    "import plotly.graph_objects as go\n",
    "import plotly.express as px\n"
   ]
  },
  {
   "cell_type": "markdown",
   "metadata": {},
   "source": [
    "### 3.2 Define and visualize the problem "
   ]
  },
  {
   "cell_type": "code",
   "execution_count": 43,
   "metadata": {},
   "outputs": [
    {
     "data": {
      "text/html": [
       "<div>\n",
       "<style scoped>\n",
       "    .dataframe tbody tr th:only-of-type {\n",
       "        vertical-align: middle;\n",
       "    }\n",
       "\n",
       "    .dataframe tbody tr th {\n",
       "        vertical-align: top;\n",
       "    }\n",
       "\n",
       "    .dataframe thead th {\n",
       "        text-align: right;\n",
       "    }\n",
       "</style>\n",
       "<table border=\"1\" class=\"dataframe\">\n",
       "  <thead>\n",
       "    <tr style=\"text-align: right;\">\n",
       "      <th></th>\n",
       "      <th>facility</th>\n",
       "      <th>customer</th>\n",
       "      <th>fixed_cost</th>\n",
       "      <th>capacity</th>\n",
       "      <th>demand</th>\n",
       "      <th>transport_cost</th>\n",
       "    </tr>\n",
       "  </thead>\n",
       "  <tbody>\n",
       "    <tr>\n",
       "      <th>0</th>\n",
       "      <td>1</td>\n",
       "      <td>1</td>\n",
       "      <td>100</td>\n",
       "      <td>150</td>\n",
       "      <td>80</td>\n",
       "      <td>10</td>\n",
       "    </tr>\n",
       "    <tr>\n",
       "      <th>1</th>\n",
       "      <td>1</td>\n",
       "      <td>2</td>\n",
       "      <td>100</td>\n",
       "      <td>150</td>\n",
       "      <td>70</td>\n",
       "      <td>20</td>\n",
       "    </tr>\n",
       "    <tr>\n",
       "      <th>2</th>\n",
       "      <td>1</td>\n",
       "      <td>3</td>\n",
       "      <td>100</td>\n",
       "      <td>150</td>\n",
       "      <td>90</td>\n",
       "      <td>30</td>\n",
       "    </tr>\n",
       "    <tr>\n",
       "      <th>3</th>\n",
       "      <td>1</td>\n",
       "      <td>4</td>\n",
       "      <td>100</td>\n",
       "      <td>150</td>\n",
       "      <td>60</td>\n",
       "      <td>40</td>\n",
       "    </tr>\n",
       "    <tr>\n",
       "      <th>4</th>\n",
       "      <td>2</td>\n",
       "      <td>1</td>\n",
       "      <td>200</td>\n",
       "      <td>200</td>\n",
       "      <td>80</td>\n",
       "      <td>15</td>\n",
       "    </tr>\n",
       "    <tr>\n",
       "      <th>5</th>\n",
       "      <td>2</td>\n",
       "      <td>2</td>\n",
       "      <td>200</td>\n",
       "      <td>200</td>\n",
       "      <td>70</td>\n",
       "      <td>25</td>\n",
       "    </tr>\n",
       "    <tr>\n",
       "      <th>6</th>\n",
       "      <td>2</td>\n",
       "      <td>3</td>\n",
       "      <td>200</td>\n",
       "      <td>200</td>\n",
       "      <td>90</td>\n",
       "      <td>35</td>\n",
       "    </tr>\n",
       "    <tr>\n",
       "      <th>7</th>\n",
       "      <td>2</td>\n",
       "      <td>4</td>\n",
       "      <td>200</td>\n",
       "      <td>200</td>\n",
       "      <td>60</td>\n",
       "      <td>45</td>\n",
       "    </tr>\n",
       "    <tr>\n",
       "      <th>8</th>\n",
       "      <td>3</td>\n",
       "      <td>1</td>\n",
       "      <td>300</td>\n",
       "      <td>300</td>\n",
       "      <td>80</td>\n",
       "      <td>20</td>\n",
       "    </tr>\n",
       "    <tr>\n",
       "      <th>9</th>\n",
       "      <td>3</td>\n",
       "      <td>2</td>\n",
       "      <td>300</td>\n",
       "      <td>300</td>\n",
       "      <td>70</td>\n",
       "      <td>30</td>\n",
       "    </tr>\n",
       "    <tr>\n",
       "      <th>10</th>\n",
       "      <td>3</td>\n",
       "      <td>3</td>\n",
       "      <td>300</td>\n",
       "      <td>300</td>\n",
       "      <td>90</td>\n",
       "      <td>40</td>\n",
       "    </tr>\n",
       "    <tr>\n",
       "      <th>11</th>\n",
       "      <td>3</td>\n",
       "      <td>4</td>\n",
       "      <td>300</td>\n",
       "      <td>300</td>\n",
       "      <td>60</td>\n",
       "      <td>50</td>\n",
       "    </tr>\n",
       "  </tbody>\n",
       "</table>\n",
       "</div>"
      ],
      "text/plain": [
       "    facility  customer  fixed_cost  capacity  demand  transport_cost\n",
       "0          1         1         100       150      80              10\n",
       "1          1         2         100       150      70              20\n",
       "2          1         3         100       150      90              30\n",
       "3          1         4         100       150      60              40\n",
       "4          2         1         200       200      80              15\n",
       "5          2         2         200       200      70              25\n",
       "6          2         3         200       200      90              35\n",
       "7          2         4         200       200      60              45\n",
       "8          3         1         300       300      80              20\n",
       "9          3         2         300       300      70              30\n",
       "10         3         3         300       300      90              40\n",
       "11         3         4         300       300      60              50"
      ]
     },
     "execution_count": 43,
     "metadata": {},
     "output_type": "execute_result"
    }
   ],
   "source": [
    "# Create aggregated data using pandas DataFrame\n",
    "data = {\n",
    "    'facility': [1, 1, 1, 1, 2, 2, 2, 2, 3, 3, 3, 3],\n",
    "    'customer': [1, 2, 3, 4, 1, 2, 3, 4, 1, 2, 3, 4],\n",
    "    'fixed_cost': [100, 100, 100, 100, 200, 200, 200, 200, 300, 300, 300, 300],\n",
    "    'capacity': [150, 150, 150, 150, 200, 200, 200, 200, 300, 300, 300, 300],\n",
    "    'demand': [80, 70, 90, 60, 80, 70, 90, 60, 80, 70, 90, 60],\n",
    "    'transport_cost': [10, 20, 30, 40, 15, 25, 35, 45, 20, 30, 40, 50]\n",
    "}\n",
    "df = pd.DataFrame(data)\n",
    "df"
   ]
  },
  {
   "cell_type": "code",
   "execution_count": 70,
   "metadata": {},
   "outputs": [],
   "source": [
    "# Function to plot the facility location problem\n",
    "def plot_facility_location(\n",
    "    df, \n",
    "    plot_transport_edges=True,\n",
    "    plot_cost_edges=False\n",
    "    ):\n",
    "    facilities = df.drop_duplicates(subset=['facility'])[['facility', 'fixed_cost', 'capacity']]\n",
    "    customers = df.drop_duplicates(subset=['customer'])[['customer', 'demand']]\n",
    "\n",
    "    # Check if the DataFrame has been updated with model results\n",
    "    if 'facility_open' not in df.columns:\n",
    "        df['facility_open'] = 0\n",
    "        df['transport_amount'] = 0\n",
    "\n",
    "    fig = go.Figure()\n",
    "\n",
    "    # Add facilities to the plot\n",
    "    for idx, row in facilities.iterrows():\n",
    "        facility_open = df[df['facility'] == row['facility']]['facility_open'].max()\n",
    "        fig.add_trace(go.Scatter(\n",
    "            x=[row['facility']],\n",
    "            y=[0],\n",
    "            mode='markers+text',\n",
    "            marker=dict(size=row['capacity'] / 10, color='blue' if facility_open > 0.5 else 'gray'),\n",
    "            text=f\"Facility {int(row['facility'])}<br>Open Cost: {row['fixed_cost']}<br>Capacity: {row['capacity']}\",\n",
    "            textposition=\"top center\",\n",
    "            name=f\"Facility {int(row['facility'])}\"\n",
    "        ))\n",
    "\n",
    "    # Add customers to the plot\n",
    "    for idx, row in customers.iterrows():\n",
    "        demand_satisfied = df[df['customer'] == row['customer']]['transport_amount'].sum() >= row['demand']\n",
    "        fig.add_trace(go.Scatter(\n",
    "            x=[row['customer']],\n",
    "            y=[1],\n",
    "            mode='markers+text',\n",
    "            marker=dict(size=row['demand'] / 5, color='red', opacity=1 if demand_satisfied else 0.5),\n",
    "            text=f\"Customer {int(row['customer'])}<br>Demand: {row['demand']}\",\n",
    "            textposition=\"bottom center\",\n",
    "            name=f\"Customer {int(row['customer'])}\"\n",
    "        ))\n",
    "\n",
    "    # Add edges to represent transportation amounts\n",
    "    if plot_transport_edges:\n",
    "        for idx, row in df.iterrows():\n",
    "            if row['transport_amount'] > 0:\n",
    "                fig.add_trace(go.Scatter(\n",
    "                    x=[row['facility'], row['customer']],\n",
    "                    y=[0, 1],\n",
    "                    mode='lines',\n",
    "                    line=dict(width=row['transport_amount'] / 10, color='yellow'),\n",
    "                    text=f\"Amount: {row['transport_amount']}\",\n",
    "                    hoverinfo='text',\n",
    "                    showlegend=False\n",
    "                ))\n",
    "\n",
    "    # Add cost edges to represent transportation costs\n",
    "    if plot_cost_edges:\n",
    "        for idx, row in df.iterrows():\n",
    "            fig.add_trace(go.Scatter(\n",
    "                x=[row['facility'], row['customer']],\n",
    "                y=[0, 1],\n",
    "                mode='lines',\n",
    "                line=dict(width=row['transport_cost'] / 20, color='green'),\n",
    "                text=f\"Cost: {row['transport_cost']}\",\n",
    "                hoverinfo='text',\n",
    "                showlegend=False\n",
    "            ))\n",
    "\n",
    "    # Update layout\n",
    "    fig.update_layout(\n",
    "        title=\"Capacitated Facility Location Problem\",\n",
    "        xaxis_title=\"Node\",\n",
    "        yaxis_title=\"Type\",\n",
    "        xaxis=dict(\n",
    "            showgrid=False,\n",
    "            gridwidth=1,\n",
    "            gridcolor='white',\n",
    "            linecolor='black'\n",
    "        ),\n",
    "        yaxis=dict(\n",
    "            tickvals=[0, 1],\n",
    "            ticktext=['Facilities', 'Customers'],\n",
    "            showgrid=False,\n",
    "            gridwidth=1,\n",
    "            gridcolor='white',\n",
    "            linecolor='black'\n",
    "        ),\n",
    "        showlegend=False,\n",
    "        # plot_bgcolor='white',\n",
    "        # paper_bgcolor='white',\n",
    "    )\n",
    "\n",
    "    fig.show()\n"
   ]
  },
  {
   "cell_type": "code",
   "execution_count": 71,
   "metadata": {},
   "outputs": [
    {
     "data": {
      "application/vnd.plotly.v1+json": {
       "config": {
        "plotlyServerURL": "https://plot.ly"
       },
       "data": [
        {
         "marker": {
          "color": "gray",
          "size": 15
         },
         "mode": "markers+text",
         "name": "Facility 1",
         "text": "Facility 1<br>Open Cost: 100<br>Capacity: 150",
         "textposition": "top center",
         "type": "scatter",
         "x": [
          1
         ],
         "y": [
          0
         ]
        },
        {
         "marker": {
          "color": "gray",
          "size": 20
         },
         "mode": "markers+text",
         "name": "Facility 2",
         "text": "Facility 2<br>Open Cost: 200<br>Capacity: 200",
         "textposition": "top center",
         "type": "scatter",
         "x": [
          2
         ],
         "y": [
          0
         ]
        },
        {
         "marker": {
          "color": "gray",
          "size": 30
         },
         "mode": "markers+text",
         "name": "Facility 3",
         "text": "Facility 3<br>Open Cost: 300<br>Capacity: 300",
         "textposition": "top center",
         "type": "scatter",
         "x": [
          3
         ],
         "y": [
          0
         ]
        },
        {
         "marker": {
          "color": "red",
          "opacity": 0.5,
          "size": 16
         },
         "mode": "markers+text",
         "name": "Customer 1",
         "text": "Customer 1<br>Demand: 80",
         "textposition": "bottom center",
         "type": "scatter",
         "x": [
          1
         ],
         "y": [
          1
         ]
        },
        {
         "marker": {
          "color": "red",
          "opacity": 0.5,
          "size": 14
         },
         "mode": "markers+text",
         "name": "Customer 2",
         "text": "Customer 2<br>Demand: 70",
         "textposition": "bottom center",
         "type": "scatter",
         "x": [
          2
         ],
         "y": [
          1
         ]
        },
        {
         "marker": {
          "color": "red",
          "opacity": 0.5,
          "size": 18
         },
         "mode": "markers+text",
         "name": "Customer 3",
         "text": "Customer 3<br>Demand: 90",
         "textposition": "bottom center",
         "type": "scatter",
         "x": [
          3
         ],
         "y": [
          1
         ]
        },
        {
         "marker": {
          "color": "red",
          "opacity": 0.5,
          "size": 12
         },
         "mode": "markers+text",
         "name": "Customer 4",
         "text": "Customer 4<br>Demand: 60",
         "textposition": "bottom center",
         "type": "scatter",
         "x": [
          4
         ],
         "y": [
          1
         ]
        },
        {
         "hoverinfo": "text",
         "line": {
          "color": "green",
          "width": 0.5
         },
         "mode": "lines",
         "showlegend": false,
         "text": "Cost: 10",
         "type": "scatter",
         "x": [
          1,
          1
         ],
         "y": [
          0,
          1
         ]
        },
        {
         "hoverinfo": "text",
         "line": {
          "color": "green",
          "width": 1
         },
         "mode": "lines",
         "showlegend": false,
         "text": "Cost: 20",
         "type": "scatter",
         "x": [
          1,
          2
         ],
         "y": [
          0,
          1
         ]
        },
        {
         "hoverinfo": "text",
         "line": {
          "color": "green",
          "width": 1.5
         },
         "mode": "lines",
         "showlegend": false,
         "text": "Cost: 30",
         "type": "scatter",
         "x": [
          1,
          3
         ],
         "y": [
          0,
          1
         ]
        },
        {
         "hoverinfo": "text",
         "line": {
          "color": "green",
          "width": 2
         },
         "mode": "lines",
         "showlegend": false,
         "text": "Cost: 40",
         "type": "scatter",
         "x": [
          1,
          4
         ],
         "y": [
          0,
          1
         ]
        },
        {
         "hoverinfo": "text",
         "line": {
          "color": "green",
          "width": 0.75
         },
         "mode": "lines",
         "showlegend": false,
         "text": "Cost: 15",
         "type": "scatter",
         "x": [
          2,
          1
         ],
         "y": [
          0,
          1
         ]
        },
        {
         "hoverinfo": "text",
         "line": {
          "color": "green",
          "width": 1.25
         },
         "mode": "lines",
         "showlegend": false,
         "text": "Cost: 25",
         "type": "scatter",
         "x": [
          2,
          2
         ],
         "y": [
          0,
          1
         ]
        },
        {
         "hoverinfo": "text",
         "line": {
          "color": "green",
          "width": 1.75
         },
         "mode": "lines",
         "showlegend": false,
         "text": "Cost: 35",
         "type": "scatter",
         "x": [
          2,
          3
         ],
         "y": [
          0,
          1
         ]
        },
        {
         "hoverinfo": "text",
         "line": {
          "color": "green",
          "width": 2.25
         },
         "mode": "lines",
         "showlegend": false,
         "text": "Cost: 45",
         "type": "scatter",
         "x": [
          2,
          4
         ],
         "y": [
          0,
          1
         ]
        },
        {
         "hoverinfo": "text",
         "line": {
          "color": "green",
          "width": 1
         },
         "mode": "lines",
         "showlegend": false,
         "text": "Cost: 20",
         "type": "scatter",
         "x": [
          3,
          1
         ],
         "y": [
          0,
          1
         ]
        },
        {
         "hoverinfo": "text",
         "line": {
          "color": "green",
          "width": 1.5
         },
         "mode": "lines",
         "showlegend": false,
         "text": "Cost: 30",
         "type": "scatter",
         "x": [
          3,
          2
         ],
         "y": [
          0,
          1
         ]
        },
        {
         "hoverinfo": "text",
         "line": {
          "color": "green",
          "width": 2
         },
         "mode": "lines",
         "showlegend": false,
         "text": "Cost: 40",
         "type": "scatter",
         "x": [
          3,
          3
         ],
         "y": [
          0,
          1
         ]
        },
        {
         "hoverinfo": "text",
         "line": {
          "color": "green",
          "width": 2.5
         },
         "mode": "lines",
         "showlegend": false,
         "text": "Cost: 50",
         "type": "scatter",
         "x": [
          3,
          4
         ],
         "y": [
          0,
          1
         ]
        }
       ],
       "layout": {
        "showlegend": false,
        "template": {
         "data": {
          "bar": [
           {
            "error_x": {
             "color": "#2a3f5f"
            },
            "error_y": {
             "color": "#2a3f5f"
            },
            "marker": {
             "line": {
              "color": "#E5ECF6",
              "width": 0.5
             },
             "pattern": {
              "fillmode": "overlay",
              "size": 10,
              "solidity": 0.2
             }
            },
            "type": "bar"
           }
          ],
          "barpolar": [
           {
            "marker": {
             "line": {
              "color": "#E5ECF6",
              "width": 0.5
             },
             "pattern": {
              "fillmode": "overlay",
              "size": 10,
              "solidity": 0.2
             }
            },
            "type": "barpolar"
           }
          ],
          "carpet": [
           {
            "aaxis": {
             "endlinecolor": "#2a3f5f",
             "gridcolor": "white",
             "linecolor": "white",
             "minorgridcolor": "white",
             "startlinecolor": "#2a3f5f"
            },
            "baxis": {
             "endlinecolor": "#2a3f5f",
             "gridcolor": "white",
             "linecolor": "white",
             "minorgridcolor": "white",
             "startlinecolor": "#2a3f5f"
            },
            "type": "carpet"
           }
          ],
          "choropleth": [
           {
            "colorbar": {
             "outlinewidth": 0,
             "ticks": ""
            },
            "type": "choropleth"
           }
          ],
          "contour": [
           {
            "colorbar": {
             "outlinewidth": 0,
             "ticks": ""
            },
            "colorscale": [
             [
              0,
              "#0d0887"
             ],
             [
              0.1111111111111111,
              "#46039f"
             ],
             [
              0.2222222222222222,
              "#7201a8"
             ],
             [
              0.3333333333333333,
              "#9c179e"
             ],
             [
              0.4444444444444444,
              "#bd3786"
             ],
             [
              0.5555555555555556,
              "#d8576b"
             ],
             [
              0.6666666666666666,
              "#ed7953"
             ],
             [
              0.7777777777777778,
              "#fb9f3a"
             ],
             [
              0.8888888888888888,
              "#fdca26"
             ],
             [
              1,
              "#f0f921"
             ]
            ],
            "type": "contour"
           }
          ],
          "contourcarpet": [
           {
            "colorbar": {
             "outlinewidth": 0,
             "ticks": ""
            },
            "type": "contourcarpet"
           }
          ],
          "heatmap": [
           {
            "colorbar": {
             "outlinewidth": 0,
             "ticks": ""
            },
            "colorscale": [
             [
              0,
              "#0d0887"
             ],
             [
              0.1111111111111111,
              "#46039f"
             ],
             [
              0.2222222222222222,
              "#7201a8"
             ],
             [
              0.3333333333333333,
              "#9c179e"
             ],
             [
              0.4444444444444444,
              "#bd3786"
             ],
             [
              0.5555555555555556,
              "#d8576b"
             ],
             [
              0.6666666666666666,
              "#ed7953"
             ],
             [
              0.7777777777777778,
              "#fb9f3a"
             ],
             [
              0.8888888888888888,
              "#fdca26"
             ],
             [
              1,
              "#f0f921"
             ]
            ],
            "type": "heatmap"
           }
          ],
          "heatmapgl": [
           {
            "colorbar": {
             "outlinewidth": 0,
             "ticks": ""
            },
            "colorscale": [
             [
              0,
              "#0d0887"
             ],
             [
              0.1111111111111111,
              "#46039f"
             ],
             [
              0.2222222222222222,
              "#7201a8"
             ],
             [
              0.3333333333333333,
              "#9c179e"
             ],
             [
              0.4444444444444444,
              "#bd3786"
             ],
             [
              0.5555555555555556,
              "#d8576b"
             ],
             [
              0.6666666666666666,
              "#ed7953"
             ],
             [
              0.7777777777777778,
              "#fb9f3a"
             ],
             [
              0.8888888888888888,
              "#fdca26"
             ],
             [
              1,
              "#f0f921"
             ]
            ],
            "type": "heatmapgl"
           }
          ],
          "histogram": [
           {
            "marker": {
             "pattern": {
              "fillmode": "overlay",
              "size": 10,
              "solidity": 0.2
             }
            },
            "type": "histogram"
           }
          ],
          "histogram2d": [
           {
            "colorbar": {
             "outlinewidth": 0,
             "ticks": ""
            },
            "colorscale": [
             [
              0,
              "#0d0887"
             ],
             [
              0.1111111111111111,
              "#46039f"
             ],
             [
              0.2222222222222222,
              "#7201a8"
             ],
             [
              0.3333333333333333,
              "#9c179e"
             ],
             [
              0.4444444444444444,
              "#bd3786"
             ],
             [
              0.5555555555555556,
              "#d8576b"
             ],
             [
              0.6666666666666666,
              "#ed7953"
             ],
             [
              0.7777777777777778,
              "#fb9f3a"
             ],
             [
              0.8888888888888888,
              "#fdca26"
             ],
             [
              1,
              "#f0f921"
             ]
            ],
            "type": "histogram2d"
           }
          ],
          "histogram2dcontour": [
           {
            "colorbar": {
             "outlinewidth": 0,
             "ticks": ""
            },
            "colorscale": [
             [
              0,
              "#0d0887"
             ],
             [
              0.1111111111111111,
              "#46039f"
             ],
             [
              0.2222222222222222,
              "#7201a8"
             ],
             [
              0.3333333333333333,
              "#9c179e"
             ],
             [
              0.4444444444444444,
              "#bd3786"
             ],
             [
              0.5555555555555556,
              "#d8576b"
             ],
             [
              0.6666666666666666,
              "#ed7953"
             ],
             [
              0.7777777777777778,
              "#fb9f3a"
             ],
             [
              0.8888888888888888,
              "#fdca26"
             ],
             [
              1,
              "#f0f921"
             ]
            ],
            "type": "histogram2dcontour"
           }
          ],
          "mesh3d": [
           {
            "colorbar": {
             "outlinewidth": 0,
             "ticks": ""
            },
            "type": "mesh3d"
           }
          ],
          "parcoords": [
           {
            "line": {
             "colorbar": {
              "outlinewidth": 0,
              "ticks": ""
             }
            },
            "type": "parcoords"
           }
          ],
          "pie": [
           {
            "automargin": true,
            "type": "pie"
           }
          ],
          "scatter": [
           {
            "fillpattern": {
             "fillmode": "overlay",
             "size": 10,
             "solidity": 0.2
            },
            "type": "scatter"
           }
          ],
          "scatter3d": [
           {
            "line": {
             "colorbar": {
              "outlinewidth": 0,
              "ticks": ""
             }
            },
            "marker": {
             "colorbar": {
              "outlinewidth": 0,
              "ticks": ""
             }
            },
            "type": "scatter3d"
           }
          ],
          "scattercarpet": [
           {
            "marker": {
             "colorbar": {
              "outlinewidth": 0,
              "ticks": ""
             }
            },
            "type": "scattercarpet"
           }
          ],
          "scattergeo": [
           {
            "marker": {
             "colorbar": {
              "outlinewidth": 0,
              "ticks": ""
             }
            },
            "type": "scattergeo"
           }
          ],
          "scattergl": [
           {
            "marker": {
             "colorbar": {
              "outlinewidth": 0,
              "ticks": ""
             }
            },
            "type": "scattergl"
           }
          ],
          "scattermapbox": [
           {
            "marker": {
             "colorbar": {
              "outlinewidth": 0,
              "ticks": ""
             }
            },
            "type": "scattermapbox"
           }
          ],
          "scatterpolar": [
           {
            "marker": {
             "colorbar": {
              "outlinewidth": 0,
              "ticks": ""
             }
            },
            "type": "scatterpolar"
           }
          ],
          "scatterpolargl": [
           {
            "marker": {
             "colorbar": {
              "outlinewidth": 0,
              "ticks": ""
             }
            },
            "type": "scatterpolargl"
           }
          ],
          "scatterternary": [
           {
            "marker": {
             "colorbar": {
              "outlinewidth": 0,
              "ticks": ""
             }
            },
            "type": "scatterternary"
           }
          ],
          "surface": [
           {
            "colorbar": {
             "outlinewidth": 0,
             "ticks": ""
            },
            "colorscale": [
             [
              0,
              "#0d0887"
             ],
             [
              0.1111111111111111,
              "#46039f"
             ],
             [
              0.2222222222222222,
              "#7201a8"
             ],
             [
              0.3333333333333333,
              "#9c179e"
             ],
             [
              0.4444444444444444,
              "#bd3786"
             ],
             [
              0.5555555555555556,
              "#d8576b"
             ],
             [
              0.6666666666666666,
              "#ed7953"
             ],
             [
              0.7777777777777778,
              "#fb9f3a"
             ],
             [
              0.8888888888888888,
              "#fdca26"
             ],
             [
              1,
              "#f0f921"
             ]
            ],
            "type": "surface"
           }
          ],
          "table": [
           {
            "cells": {
             "fill": {
              "color": "#EBF0F8"
             },
             "line": {
              "color": "white"
             }
            },
            "header": {
             "fill": {
              "color": "#C8D4E3"
             },
             "line": {
              "color": "white"
             }
            },
            "type": "table"
           }
          ]
         },
         "layout": {
          "annotationdefaults": {
           "arrowcolor": "#2a3f5f",
           "arrowhead": 0,
           "arrowwidth": 1
          },
          "autotypenumbers": "strict",
          "coloraxis": {
           "colorbar": {
            "outlinewidth": 0,
            "ticks": ""
           }
          },
          "colorscale": {
           "diverging": [
            [
             0,
             "#8e0152"
            ],
            [
             0.1,
             "#c51b7d"
            ],
            [
             0.2,
             "#de77ae"
            ],
            [
             0.3,
             "#f1b6da"
            ],
            [
             0.4,
             "#fde0ef"
            ],
            [
             0.5,
             "#f7f7f7"
            ],
            [
             0.6,
             "#e6f5d0"
            ],
            [
             0.7,
             "#b8e186"
            ],
            [
             0.8,
             "#7fbc41"
            ],
            [
             0.9,
             "#4d9221"
            ],
            [
             1,
             "#276419"
            ]
           ],
           "sequential": [
            [
             0,
             "#0d0887"
            ],
            [
             0.1111111111111111,
             "#46039f"
            ],
            [
             0.2222222222222222,
             "#7201a8"
            ],
            [
             0.3333333333333333,
             "#9c179e"
            ],
            [
             0.4444444444444444,
             "#bd3786"
            ],
            [
             0.5555555555555556,
             "#d8576b"
            ],
            [
             0.6666666666666666,
             "#ed7953"
            ],
            [
             0.7777777777777778,
             "#fb9f3a"
            ],
            [
             0.8888888888888888,
             "#fdca26"
            ],
            [
             1,
             "#f0f921"
            ]
           ],
           "sequentialminus": [
            [
             0,
             "#0d0887"
            ],
            [
             0.1111111111111111,
             "#46039f"
            ],
            [
             0.2222222222222222,
             "#7201a8"
            ],
            [
             0.3333333333333333,
             "#9c179e"
            ],
            [
             0.4444444444444444,
             "#bd3786"
            ],
            [
             0.5555555555555556,
             "#d8576b"
            ],
            [
             0.6666666666666666,
             "#ed7953"
            ],
            [
             0.7777777777777778,
             "#fb9f3a"
            ],
            [
             0.8888888888888888,
             "#fdca26"
            ],
            [
             1,
             "#f0f921"
            ]
           ]
          },
          "colorway": [
           "#636efa",
           "#EF553B",
           "#00cc96",
           "#ab63fa",
           "#FFA15A",
           "#19d3f3",
           "#FF6692",
           "#B6E880",
           "#FF97FF",
           "#FECB52"
          ],
          "font": {
           "color": "#2a3f5f"
          },
          "geo": {
           "bgcolor": "white",
           "lakecolor": "white",
           "landcolor": "#E5ECF6",
           "showlakes": true,
           "showland": true,
           "subunitcolor": "white"
          },
          "hoverlabel": {
           "align": "left"
          },
          "hovermode": "closest",
          "mapbox": {
           "style": "light"
          },
          "paper_bgcolor": "white",
          "plot_bgcolor": "#E5ECF6",
          "polar": {
           "angularaxis": {
            "gridcolor": "white",
            "linecolor": "white",
            "ticks": ""
           },
           "bgcolor": "#E5ECF6",
           "radialaxis": {
            "gridcolor": "white",
            "linecolor": "white",
            "ticks": ""
           }
          },
          "scene": {
           "xaxis": {
            "backgroundcolor": "#E5ECF6",
            "gridcolor": "white",
            "gridwidth": 2,
            "linecolor": "white",
            "showbackground": true,
            "ticks": "",
            "zerolinecolor": "white"
           },
           "yaxis": {
            "backgroundcolor": "#E5ECF6",
            "gridcolor": "white",
            "gridwidth": 2,
            "linecolor": "white",
            "showbackground": true,
            "ticks": "",
            "zerolinecolor": "white"
           },
           "zaxis": {
            "backgroundcolor": "#E5ECF6",
            "gridcolor": "white",
            "gridwidth": 2,
            "linecolor": "white",
            "showbackground": true,
            "ticks": "",
            "zerolinecolor": "white"
           }
          },
          "shapedefaults": {
           "line": {
            "color": "#2a3f5f"
           }
          },
          "ternary": {
           "aaxis": {
            "gridcolor": "white",
            "linecolor": "white",
            "ticks": ""
           },
           "baxis": {
            "gridcolor": "white",
            "linecolor": "white",
            "ticks": ""
           },
           "bgcolor": "#E5ECF6",
           "caxis": {
            "gridcolor": "white",
            "linecolor": "white",
            "ticks": ""
           }
          },
          "title": {
           "x": 0.05
          },
          "xaxis": {
           "automargin": true,
           "gridcolor": "white",
           "linecolor": "white",
           "ticks": "",
           "title": {
            "standoff": 15
           },
           "zerolinecolor": "white",
           "zerolinewidth": 2
          },
          "yaxis": {
           "automargin": true,
           "gridcolor": "white",
           "linecolor": "white",
           "ticks": "",
           "title": {
            "standoff": 15
           },
           "zerolinecolor": "white",
           "zerolinewidth": 2
          }
         }
        },
        "title": {
         "text": "Capacitated Facility Location Problem"
        },
        "xaxis": {
         "gridcolor": "white",
         "gridwidth": 1,
         "linecolor": "black",
         "showgrid": false,
         "title": {
          "text": "Node"
         }
        },
        "yaxis": {
         "gridcolor": "white",
         "gridwidth": 1,
         "linecolor": "black",
         "showgrid": false,
         "ticktext": [
          "Facilities",
          "Customers"
         ],
         "tickvals": [
          0,
          1
         ],
         "title": {
          "text": "Type"
         }
        }
       }
      }
     },
     "metadata": {},
     "output_type": "display_data"
    }
   ],
   "source": [
    "\n",
    "# Plot the initial data\n",
    "plot_facility_location(df, plot_cost_edges=True, plot_transport_edges=True)\n",
    "\n",
    "# After solving the optimization model, you can call the function again with the updated data\n",
    "# For example:\n",
    "# plot_facility_location(updated_df, plot_edges=True)"
   ]
  },
  {
   "cell_type": "markdown",
   "metadata": {},
   "source": [
    "### 3.3 Build the Pyomo model"
   ]
  },
  {
   "cell_type": "code",
   "execution_count": 20,
   "metadata": {},
   "outputs": [],
   "source": [
    "# Initialize a Pyomo concrete model\n",
    "model = pyo.ConcreteModel()\n",
    "\n",
    "# Define sets\n",
    "model.I = pyo.Set(initialize=df['facility'].unique())\n",
    "model.J = pyo.Set(initialize=df['customer'].unique())\n",
    "\n",
    "# Define parameters\n",
    "fixed_costs = df.drop_duplicates(subset=['facility']).set_index('facility')['fixed_cost'].to_dict()\n",
    "capacities = df.drop_duplicates(subset=['facility']).set_index('facility')['capacity'].to_dict()\n",
    "demands = df.drop_duplicates(subset=['customer']).set_index('customer')['demand'].to_dict()\n",
    "transport_costs = df.set_index(['facility', 'customer'])['transport_cost'].to_dict()\n",
    "\n",
    "model.f = pyo.Param(model.I, initialize=fixed_costs)\n",
    "model.M = pyo.Param(model.I, initialize=capacities)\n",
    "model.d = pyo.Param(model.J, initialize=demands)\n",
    "model.c = pyo.Param(model.I, model.J, initialize=transport_costs)\n",
    "\n",
    "# Define decision variables\n",
    "model.x = pyo.Var(model.I, within=pyo.Binary)\n",
    "model.y = pyo.Var(model.I, model.J, within=pyo.NonNegativeReals)\n",
    "\n",
    "# Define objective function\n",
    "def objective_rule(model):\n",
    "    return sum(model.f[i] * model.x[i] for i in model.I) + sum(model.c[i, j] * model.y[i, j] for i in model.I for j in model.J)\n",
    "model.objective = pyo.Objective(rule=objective_rule, sense=pyo.minimize)\n",
    "\n",
    "# Define constraints\n",
    "def demand_constraint_rule(model, j):\n",
    "    return sum(model.y[i, j] for i in model.I) == model.d[j]\n",
    "model.demand_constraint = pyo.Constraint(model.J, rule=demand_constraint_rule)\n",
    "\n",
    "def capacity_constraint_rule(model, i):\n",
    "    return sum(model.y[i, j] for j in model.J) <= model.M[i] * model.x[i]\n",
    "model.capacity_constraint = pyo.Constraint(model.I, rule=capacity_constraint_rule)\n"
   ]
  },
  {
   "cell_type": "code",
   "execution_count": 22,
   "metadata": {},
   "outputs": [
    {
     "name": "stdout",
     "output_type": "stream",
     "text": [
      "Optimal Facility Locations and Transportation Plan\n",
      "Facilities to Open:\n",
      "Facility 1 is opened.\n",
      "Facility 2 is opened.\n",
      "\n",
      "Transportation Plan:\n",
      "Transport 80.0 units from Facility 1 to Customer 1.\n",
      "Transport 10.0 units from Facility 1 to Customer 3.\n",
      "Transport 60.0 units from Facility 1 to Customer 4.\n",
      "Transport 70.0 units from Facility 2 to Customer 2.\n",
      "Transport 80.0 units from Facility 2 to Customer 3.\n"
     ]
    }
   ],
   "source": [
    "\n",
    "# Solve the model using Cplex\n",
    "solver = pyo.SolverFactory('cplex')\n",
    "solver.solve(model, tee=False)\n",
    "\n",
    "# Display results\n",
    "print(\"Optimal Facility Locations and Transportation Plan\")\n",
    "print(\"Facilities to Open:\")\n",
    "for i in model.I:\n",
    "    if pyo.value(model.x[i]) > 0.5:\n",
    "        print(f\"Facility {i} is opened.\")\n",
    "\n",
    "print(\"\\nTransportation Plan:\")\n",
    "for i in model.I:\n",
    "    for j in model.J:\n",
    "        if pyo.value(model.y[i, j]) > 0:\n",
    "            print(f\"Transport {pyo.value(model.y[i, j])} units from Facility {i} to Customer {j}.\")"
   ]
  },
  {
   "cell_type": "code",
   "execution_count": 34,
   "metadata": {},
   "outputs": [],
   "source": [
    "# Function to update DataFrame with model results\n",
    "def update_dataframe_with_model_results(df, model):\n",
    "    # Extract values of decision variables\n",
    "    x_values = model.x.extract_values()\n",
    "    y_values = model.y.extract_values()\n",
    "\n",
    "    # Update DataFrame to reflect facility openings and transportation decisions\n",
    "    df['facility_open'] = df['facility'].apply(lambda i: x_values[i])\n",
    "    df['transport_amount'] = df.apply(lambda row: y_values[(row['facility'], row['customer'])], axis=1)\n",
    "    \n",
    "    return df"
   ]
  },
  {
   "cell_type": "code",
   "execution_count": 38,
   "metadata": {},
   "outputs": [],
   "source": [
    "updated_df = update_dataframe_with_model_results(df, model)"
   ]
  },
  {
   "cell_type": "code",
   "execution_count": 74,
   "metadata": {},
   "outputs": [
    {
     "data": {
      "application/vnd.plotly.v1+json": {
       "config": {
        "plotlyServerURL": "https://plot.ly"
       },
       "data": [
        {
         "marker": {
          "color": "blue",
          "size": 15
         },
         "mode": "markers+text",
         "name": "Facility 1",
         "text": "Facility 1<br>Open Cost: 100<br>Capacity: 150",
         "textposition": "top center",
         "type": "scatter",
         "x": [
          1
         ],
         "y": [
          0
         ]
        },
        {
         "marker": {
          "color": "blue",
          "size": 20
         },
         "mode": "markers+text",
         "name": "Facility 2",
         "text": "Facility 2<br>Open Cost: 200<br>Capacity: 200",
         "textposition": "top center",
         "type": "scatter",
         "x": [
          2
         ],
         "y": [
          0
         ]
        },
        {
         "marker": {
          "color": "gray",
          "size": 30
         },
         "mode": "markers+text",
         "name": "Facility 3",
         "text": "Facility 3<br>Open Cost: 300<br>Capacity: 300",
         "textposition": "top center",
         "type": "scatter",
         "x": [
          3
         ],
         "y": [
          0
         ]
        },
        {
         "marker": {
          "color": "red",
          "opacity": 1,
          "size": 16
         },
         "mode": "markers+text",
         "name": "Customer 1",
         "text": "Customer 1<br>Demand: 80",
         "textposition": "bottom center",
         "type": "scatter",
         "x": [
          1
         ],
         "y": [
          1
         ]
        },
        {
         "marker": {
          "color": "red",
          "opacity": 1,
          "size": 14
         },
         "mode": "markers+text",
         "name": "Customer 2",
         "text": "Customer 2<br>Demand: 70",
         "textposition": "bottom center",
         "type": "scatter",
         "x": [
          2
         ],
         "y": [
          1
         ]
        },
        {
         "marker": {
          "color": "red",
          "opacity": 1,
          "size": 18
         },
         "mode": "markers+text",
         "name": "Customer 3",
         "text": "Customer 3<br>Demand: 90",
         "textposition": "bottom center",
         "type": "scatter",
         "x": [
          3
         ],
         "y": [
          1
         ]
        },
        {
         "marker": {
          "color": "red",
          "opacity": 1,
          "size": 12
         },
         "mode": "markers+text",
         "name": "Customer 4",
         "text": "Customer 4<br>Demand: 60",
         "textposition": "bottom center",
         "type": "scatter",
         "x": [
          4
         ],
         "y": [
          1
         ]
        },
        {
         "hoverinfo": "text",
         "line": {
          "color": "yellow",
          "width": 8
         },
         "mode": "lines",
         "showlegend": false,
         "text": "Amount: 80.0",
         "type": "scatter",
         "x": [
          1,
          1
         ],
         "y": [
          0,
          1
         ]
        },
        {
         "hoverinfo": "text",
         "line": {
          "color": "yellow",
          "width": 1
         },
         "mode": "lines",
         "showlegend": false,
         "text": "Amount: 10.0",
         "type": "scatter",
         "x": [
          1,
          3
         ],
         "y": [
          0,
          1
         ]
        },
        {
         "hoverinfo": "text",
         "line": {
          "color": "yellow",
          "width": 6
         },
         "mode": "lines",
         "showlegend": false,
         "text": "Amount: 60.0",
         "type": "scatter",
         "x": [
          1,
          4
         ],
         "y": [
          0,
          1
         ]
        },
        {
         "hoverinfo": "text",
         "line": {
          "color": "yellow",
          "width": 7
         },
         "mode": "lines",
         "showlegend": false,
         "text": "Amount: 70.0",
         "type": "scatter",
         "x": [
          2,
          2
         ],
         "y": [
          0,
          1
         ]
        },
        {
         "hoverinfo": "text",
         "line": {
          "color": "yellow",
          "width": 8
         },
         "mode": "lines",
         "showlegend": false,
         "text": "Amount: 80.0",
         "type": "scatter",
         "x": [
          2,
          3
         ],
         "y": [
          0,
          1
         ]
        }
       ],
       "layout": {
        "showlegend": false,
        "template": {
         "data": {
          "bar": [
           {
            "error_x": {
             "color": "#2a3f5f"
            },
            "error_y": {
             "color": "#2a3f5f"
            },
            "marker": {
             "line": {
              "color": "#E5ECF6",
              "width": 0.5
             },
             "pattern": {
              "fillmode": "overlay",
              "size": 10,
              "solidity": 0.2
             }
            },
            "type": "bar"
           }
          ],
          "barpolar": [
           {
            "marker": {
             "line": {
              "color": "#E5ECF6",
              "width": 0.5
             },
             "pattern": {
              "fillmode": "overlay",
              "size": 10,
              "solidity": 0.2
             }
            },
            "type": "barpolar"
           }
          ],
          "carpet": [
           {
            "aaxis": {
             "endlinecolor": "#2a3f5f",
             "gridcolor": "white",
             "linecolor": "white",
             "minorgridcolor": "white",
             "startlinecolor": "#2a3f5f"
            },
            "baxis": {
             "endlinecolor": "#2a3f5f",
             "gridcolor": "white",
             "linecolor": "white",
             "minorgridcolor": "white",
             "startlinecolor": "#2a3f5f"
            },
            "type": "carpet"
           }
          ],
          "choropleth": [
           {
            "colorbar": {
             "outlinewidth": 0,
             "ticks": ""
            },
            "type": "choropleth"
           }
          ],
          "contour": [
           {
            "colorbar": {
             "outlinewidth": 0,
             "ticks": ""
            },
            "colorscale": [
             [
              0,
              "#0d0887"
             ],
             [
              0.1111111111111111,
              "#46039f"
             ],
             [
              0.2222222222222222,
              "#7201a8"
             ],
             [
              0.3333333333333333,
              "#9c179e"
             ],
             [
              0.4444444444444444,
              "#bd3786"
             ],
             [
              0.5555555555555556,
              "#d8576b"
             ],
             [
              0.6666666666666666,
              "#ed7953"
             ],
             [
              0.7777777777777778,
              "#fb9f3a"
             ],
             [
              0.8888888888888888,
              "#fdca26"
             ],
             [
              1,
              "#f0f921"
             ]
            ],
            "type": "contour"
           }
          ],
          "contourcarpet": [
           {
            "colorbar": {
             "outlinewidth": 0,
             "ticks": ""
            },
            "type": "contourcarpet"
           }
          ],
          "heatmap": [
           {
            "colorbar": {
             "outlinewidth": 0,
             "ticks": ""
            },
            "colorscale": [
             [
              0,
              "#0d0887"
             ],
             [
              0.1111111111111111,
              "#46039f"
             ],
             [
              0.2222222222222222,
              "#7201a8"
             ],
             [
              0.3333333333333333,
              "#9c179e"
             ],
             [
              0.4444444444444444,
              "#bd3786"
             ],
             [
              0.5555555555555556,
              "#d8576b"
             ],
             [
              0.6666666666666666,
              "#ed7953"
             ],
             [
              0.7777777777777778,
              "#fb9f3a"
             ],
             [
              0.8888888888888888,
              "#fdca26"
             ],
             [
              1,
              "#f0f921"
             ]
            ],
            "type": "heatmap"
           }
          ],
          "heatmapgl": [
           {
            "colorbar": {
             "outlinewidth": 0,
             "ticks": ""
            },
            "colorscale": [
             [
              0,
              "#0d0887"
             ],
             [
              0.1111111111111111,
              "#46039f"
             ],
             [
              0.2222222222222222,
              "#7201a8"
             ],
             [
              0.3333333333333333,
              "#9c179e"
             ],
             [
              0.4444444444444444,
              "#bd3786"
             ],
             [
              0.5555555555555556,
              "#d8576b"
             ],
             [
              0.6666666666666666,
              "#ed7953"
             ],
             [
              0.7777777777777778,
              "#fb9f3a"
             ],
             [
              0.8888888888888888,
              "#fdca26"
             ],
             [
              1,
              "#f0f921"
             ]
            ],
            "type": "heatmapgl"
           }
          ],
          "histogram": [
           {
            "marker": {
             "pattern": {
              "fillmode": "overlay",
              "size": 10,
              "solidity": 0.2
             }
            },
            "type": "histogram"
           }
          ],
          "histogram2d": [
           {
            "colorbar": {
             "outlinewidth": 0,
             "ticks": ""
            },
            "colorscale": [
             [
              0,
              "#0d0887"
             ],
             [
              0.1111111111111111,
              "#46039f"
             ],
             [
              0.2222222222222222,
              "#7201a8"
             ],
             [
              0.3333333333333333,
              "#9c179e"
             ],
             [
              0.4444444444444444,
              "#bd3786"
             ],
             [
              0.5555555555555556,
              "#d8576b"
             ],
             [
              0.6666666666666666,
              "#ed7953"
             ],
             [
              0.7777777777777778,
              "#fb9f3a"
             ],
             [
              0.8888888888888888,
              "#fdca26"
             ],
             [
              1,
              "#f0f921"
             ]
            ],
            "type": "histogram2d"
           }
          ],
          "histogram2dcontour": [
           {
            "colorbar": {
             "outlinewidth": 0,
             "ticks": ""
            },
            "colorscale": [
             [
              0,
              "#0d0887"
             ],
             [
              0.1111111111111111,
              "#46039f"
             ],
             [
              0.2222222222222222,
              "#7201a8"
             ],
             [
              0.3333333333333333,
              "#9c179e"
             ],
             [
              0.4444444444444444,
              "#bd3786"
             ],
             [
              0.5555555555555556,
              "#d8576b"
             ],
             [
              0.6666666666666666,
              "#ed7953"
             ],
             [
              0.7777777777777778,
              "#fb9f3a"
             ],
             [
              0.8888888888888888,
              "#fdca26"
             ],
             [
              1,
              "#f0f921"
             ]
            ],
            "type": "histogram2dcontour"
           }
          ],
          "mesh3d": [
           {
            "colorbar": {
             "outlinewidth": 0,
             "ticks": ""
            },
            "type": "mesh3d"
           }
          ],
          "parcoords": [
           {
            "line": {
             "colorbar": {
              "outlinewidth": 0,
              "ticks": ""
             }
            },
            "type": "parcoords"
           }
          ],
          "pie": [
           {
            "automargin": true,
            "type": "pie"
           }
          ],
          "scatter": [
           {
            "fillpattern": {
             "fillmode": "overlay",
             "size": 10,
             "solidity": 0.2
            },
            "type": "scatter"
           }
          ],
          "scatter3d": [
           {
            "line": {
             "colorbar": {
              "outlinewidth": 0,
              "ticks": ""
             }
            },
            "marker": {
             "colorbar": {
              "outlinewidth": 0,
              "ticks": ""
             }
            },
            "type": "scatter3d"
           }
          ],
          "scattercarpet": [
           {
            "marker": {
             "colorbar": {
              "outlinewidth": 0,
              "ticks": ""
             }
            },
            "type": "scattercarpet"
           }
          ],
          "scattergeo": [
           {
            "marker": {
             "colorbar": {
              "outlinewidth": 0,
              "ticks": ""
             }
            },
            "type": "scattergeo"
           }
          ],
          "scattergl": [
           {
            "marker": {
             "colorbar": {
              "outlinewidth": 0,
              "ticks": ""
             }
            },
            "type": "scattergl"
           }
          ],
          "scattermapbox": [
           {
            "marker": {
             "colorbar": {
              "outlinewidth": 0,
              "ticks": ""
             }
            },
            "type": "scattermapbox"
           }
          ],
          "scatterpolar": [
           {
            "marker": {
             "colorbar": {
              "outlinewidth": 0,
              "ticks": ""
             }
            },
            "type": "scatterpolar"
           }
          ],
          "scatterpolargl": [
           {
            "marker": {
             "colorbar": {
              "outlinewidth": 0,
              "ticks": ""
             }
            },
            "type": "scatterpolargl"
           }
          ],
          "scatterternary": [
           {
            "marker": {
             "colorbar": {
              "outlinewidth": 0,
              "ticks": ""
             }
            },
            "type": "scatterternary"
           }
          ],
          "surface": [
           {
            "colorbar": {
             "outlinewidth": 0,
             "ticks": ""
            },
            "colorscale": [
             [
              0,
              "#0d0887"
             ],
             [
              0.1111111111111111,
              "#46039f"
             ],
             [
              0.2222222222222222,
              "#7201a8"
             ],
             [
              0.3333333333333333,
              "#9c179e"
             ],
             [
              0.4444444444444444,
              "#bd3786"
             ],
             [
              0.5555555555555556,
              "#d8576b"
             ],
             [
              0.6666666666666666,
              "#ed7953"
             ],
             [
              0.7777777777777778,
              "#fb9f3a"
             ],
             [
              0.8888888888888888,
              "#fdca26"
             ],
             [
              1,
              "#f0f921"
             ]
            ],
            "type": "surface"
           }
          ],
          "table": [
           {
            "cells": {
             "fill": {
              "color": "#EBF0F8"
             },
             "line": {
              "color": "white"
             }
            },
            "header": {
             "fill": {
              "color": "#C8D4E3"
             },
             "line": {
              "color": "white"
             }
            },
            "type": "table"
           }
          ]
         },
         "layout": {
          "annotationdefaults": {
           "arrowcolor": "#2a3f5f",
           "arrowhead": 0,
           "arrowwidth": 1
          },
          "autotypenumbers": "strict",
          "coloraxis": {
           "colorbar": {
            "outlinewidth": 0,
            "ticks": ""
           }
          },
          "colorscale": {
           "diverging": [
            [
             0,
             "#8e0152"
            ],
            [
             0.1,
             "#c51b7d"
            ],
            [
             0.2,
             "#de77ae"
            ],
            [
             0.3,
             "#f1b6da"
            ],
            [
             0.4,
             "#fde0ef"
            ],
            [
             0.5,
             "#f7f7f7"
            ],
            [
             0.6,
             "#e6f5d0"
            ],
            [
             0.7,
             "#b8e186"
            ],
            [
             0.8,
             "#7fbc41"
            ],
            [
             0.9,
             "#4d9221"
            ],
            [
             1,
             "#276419"
            ]
           ],
           "sequential": [
            [
             0,
             "#0d0887"
            ],
            [
             0.1111111111111111,
             "#46039f"
            ],
            [
             0.2222222222222222,
             "#7201a8"
            ],
            [
             0.3333333333333333,
             "#9c179e"
            ],
            [
             0.4444444444444444,
             "#bd3786"
            ],
            [
             0.5555555555555556,
             "#d8576b"
            ],
            [
             0.6666666666666666,
             "#ed7953"
            ],
            [
             0.7777777777777778,
             "#fb9f3a"
            ],
            [
             0.8888888888888888,
             "#fdca26"
            ],
            [
             1,
             "#f0f921"
            ]
           ],
           "sequentialminus": [
            [
             0,
             "#0d0887"
            ],
            [
             0.1111111111111111,
             "#46039f"
            ],
            [
             0.2222222222222222,
             "#7201a8"
            ],
            [
             0.3333333333333333,
             "#9c179e"
            ],
            [
             0.4444444444444444,
             "#bd3786"
            ],
            [
             0.5555555555555556,
             "#d8576b"
            ],
            [
             0.6666666666666666,
             "#ed7953"
            ],
            [
             0.7777777777777778,
             "#fb9f3a"
            ],
            [
             0.8888888888888888,
             "#fdca26"
            ],
            [
             1,
             "#f0f921"
            ]
           ]
          },
          "colorway": [
           "#636efa",
           "#EF553B",
           "#00cc96",
           "#ab63fa",
           "#FFA15A",
           "#19d3f3",
           "#FF6692",
           "#B6E880",
           "#FF97FF",
           "#FECB52"
          ],
          "font": {
           "color": "#2a3f5f"
          },
          "geo": {
           "bgcolor": "white",
           "lakecolor": "white",
           "landcolor": "#E5ECF6",
           "showlakes": true,
           "showland": true,
           "subunitcolor": "white"
          },
          "hoverlabel": {
           "align": "left"
          },
          "hovermode": "closest",
          "mapbox": {
           "style": "light"
          },
          "paper_bgcolor": "white",
          "plot_bgcolor": "#E5ECF6",
          "polar": {
           "angularaxis": {
            "gridcolor": "white",
            "linecolor": "white",
            "ticks": ""
           },
           "bgcolor": "#E5ECF6",
           "radialaxis": {
            "gridcolor": "white",
            "linecolor": "white",
            "ticks": ""
           }
          },
          "scene": {
           "xaxis": {
            "backgroundcolor": "#E5ECF6",
            "gridcolor": "white",
            "gridwidth": 2,
            "linecolor": "white",
            "showbackground": true,
            "ticks": "",
            "zerolinecolor": "white"
           },
           "yaxis": {
            "backgroundcolor": "#E5ECF6",
            "gridcolor": "white",
            "gridwidth": 2,
            "linecolor": "white",
            "showbackground": true,
            "ticks": "",
            "zerolinecolor": "white"
           },
           "zaxis": {
            "backgroundcolor": "#E5ECF6",
            "gridcolor": "white",
            "gridwidth": 2,
            "linecolor": "white",
            "showbackground": true,
            "ticks": "",
            "zerolinecolor": "white"
           }
          },
          "shapedefaults": {
           "line": {
            "color": "#2a3f5f"
           }
          },
          "ternary": {
           "aaxis": {
            "gridcolor": "white",
            "linecolor": "white",
            "ticks": ""
           },
           "baxis": {
            "gridcolor": "white",
            "linecolor": "white",
            "ticks": ""
           },
           "bgcolor": "#E5ECF6",
           "caxis": {
            "gridcolor": "white",
            "linecolor": "white",
            "ticks": ""
           }
          },
          "title": {
           "x": 0.05
          },
          "xaxis": {
           "automargin": true,
           "gridcolor": "white",
           "linecolor": "white",
           "ticks": "",
           "title": {
            "standoff": 15
           },
           "zerolinecolor": "white",
           "zerolinewidth": 2
          },
          "yaxis": {
           "automargin": true,
           "gridcolor": "white",
           "linecolor": "white",
           "ticks": "",
           "title": {
            "standoff": 15
           },
           "zerolinecolor": "white",
           "zerolinewidth": 2
          }
         }
        },
        "title": {
         "text": "Capacitated Facility Location Problem"
        },
        "xaxis": {
         "gridcolor": "white",
         "gridwidth": 1,
         "linecolor": "black",
         "showgrid": false,
         "title": {
          "text": "Node"
         }
        },
        "yaxis": {
         "gridcolor": "white",
         "gridwidth": 1,
         "linecolor": "black",
         "showgrid": false,
         "ticktext": [
          "Facilities",
          "Customers"
         ],
         "tickvals": [
          0,
          1
         ],
         "title": {
          "text": "Type"
         }
        }
       }
      }
     },
     "metadata": {},
     "output_type": "display_data"
    }
   ],
   "source": [
    "plot_facility_location(updated_df, plot_cost_edges=True, plot_transport_edges=True)\n"
   ]
  },
  {
   "cell_type": "code",
   "execution_count": 42,
   "metadata": {},
   "outputs": [
    {
     "data": {
      "text/html": [
       "<div>\n",
       "<style scoped>\n",
       "    .dataframe tbody tr th:only-of-type {\n",
       "        vertical-align: middle;\n",
       "    }\n",
       "\n",
       "    .dataframe tbody tr th {\n",
       "        vertical-align: top;\n",
       "    }\n",
       "\n",
       "    .dataframe thead th {\n",
       "        text-align: right;\n",
       "    }\n",
       "</style>\n",
       "<table border=\"1\" class=\"dataframe\">\n",
       "  <thead>\n",
       "    <tr style=\"text-align: right;\">\n",
       "      <th></th>\n",
       "      <th>facility</th>\n",
       "      <th>customer</th>\n",
       "      <th>fixed_cost</th>\n",
       "      <th>capacity</th>\n",
       "      <th>demand</th>\n",
       "      <th>transport_cost</th>\n",
       "      <th>facility_open</th>\n",
       "      <th>transport_amount</th>\n",
       "    </tr>\n",
       "  </thead>\n",
       "  <tbody>\n",
       "    <tr>\n",
       "      <th>0</th>\n",
       "      <td>1</td>\n",
       "      <td>1</td>\n",
       "      <td>100</td>\n",
       "      <td>150</td>\n",
       "      <td>80</td>\n",
       "      <td>10</td>\n",
       "      <td>1.0</td>\n",
       "      <td>80.0</td>\n",
       "    </tr>\n",
       "    <tr>\n",
       "      <th>1</th>\n",
       "      <td>1</td>\n",
       "      <td>2</td>\n",
       "      <td>100</td>\n",
       "      <td>150</td>\n",
       "      <td>70</td>\n",
       "      <td>20</td>\n",
       "      <td>1.0</td>\n",
       "      <td>0.0</td>\n",
       "    </tr>\n",
       "    <tr>\n",
       "      <th>2</th>\n",
       "      <td>1</td>\n",
       "      <td>3</td>\n",
       "      <td>100</td>\n",
       "      <td>150</td>\n",
       "      <td>90</td>\n",
       "      <td>30</td>\n",
       "      <td>1.0</td>\n",
       "      <td>10.0</td>\n",
       "    </tr>\n",
       "    <tr>\n",
       "      <th>3</th>\n",
       "      <td>1</td>\n",
       "      <td>4</td>\n",
       "      <td>100</td>\n",
       "      <td>150</td>\n",
       "      <td>60</td>\n",
       "      <td>40</td>\n",
       "      <td>1.0</td>\n",
       "      <td>60.0</td>\n",
       "    </tr>\n",
       "    <tr>\n",
       "      <th>4</th>\n",
       "      <td>2</td>\n",
       "      <td>1</td>\n",
       "      <td>200</td>\n",
       "      <td>200</td>\n",
       "      <td>80</td>\n",
       "      <td>15</td>\n",
       "      <td>1.0</td>\n",
       "      <td>0.0</td>\n",
       "    </tr>\n",
       "    <tr>\n",
       "      <th>5</th>\n",
       "      <td>2</td>\n",
       "      <td>2</td>\n",
       "      <td>200</td>\n",
       "      <td>200</td>\n",
       "      <td>70</td>\n",
       "      <td>25</td>\n",
       "      <td>1.0</td>\n",
       "      <td>70.0</td>\n",
       "    </tr>\n",
       "    <tr>\n",
       "      <th>6</th>\n",
       "      <td>2</td>\n",
       "      <td>3</td>\n",
       "      <td>200</td>\n",
       "      <td>200</td>\n",
       "      <td>90</td>\n",
       "      <td>35</td>\n",
       "      <td>1.0</td>\n",
       "      <td>80.0</td>\n",
       "    </tr>\n",
       "    <tr>\n",
       "      <th>7</th>\n",
       "      <td>2</td>\n",
       "      <td>4</td>\n",
       "      <td>200</td>\n",
       "      <td>200</td>\n",
       "      <td>60</td>\n",
       "      <td>45</td>\n",
       "      <td>1.0</td>\n",
       "      <td>0.0</td>\n",
       "    </tr>\n",
       "    <tr>\n",
       "      <th>8</th>\n",
       "      <td>3</td>\n",
       "      <td>1</td>\n",
       "      <td>300</td>\n",
       "      <td>300</td>\n",
       "      <td>80</td>\n",
       "      <td>20</td>\n",
       "      <td>-0.0</td>\n",
       "      <td>0.0</td>\n",
       "    </tr>\n",
       "    <tr>\n",
       "      <th>9</th>\n",
       "      <td>3</td>\n",
       "      <td>2</td>\n",
       "      <td>300</td>\n",
       "      <td>300</td>\n",
       "      <td>70</td>\n",
       "      <td>30</td>\n",
       "      <td>-0.0</td>\n",
       "      <td>0.0</td>\n",
       "    </tr>\n",
       "    <tr>\n",
       "      <th>10</th>\n",
       "      <td>3</td>\n",
       "      <td>3</td>\n",
       "      <td>300</td>\n",
       "      <td>300</td>\n",
       "      <td>90</td>\n",
       "      <td>40</td>\n",
       "      <td>-0.0</td>\n",
       "      <td>0.0</td>\n",
       "    </tr>\n",
       "    <tr>\n",
       "      <th>11</th>\n",
       "      <td>3</td>\n",
       "      <td>4</td>\n",
       "      <td>300</td>\n",
       "      <td>300</td>\n",
       "      <td>60</td>\n",
       "      <td>50</td>\n",
       "      <td>-0.0</td>\n",
       "      <td>0.0</td>\n",
       "    </tr>\n",
       "  </tbody>\n",
       "</table>\n",
       "</div>"
      ],
      "text/plain": [
       "    facility  customer  fixed_cost  capacity  demand  transport_cost  \\\n",
       "0          1         1         100       150      80              10   \n",
       "1          1         2         100       150      70              20   \n",
       "2          1         3         100       150      90              30   \n",
       "3          1         4         100       150      60              40   \n",
       "4          2         1         200       200      80              15   \n",
       "5          2         2         200       200      70              25   \n",
       "6          2         3         200       200      90              35   \n",
       "7          2         4         200       200      60              45   \n",
       "8          3         1         300       300      80              20   \n",
       "9          3         2         300       300      70              30   \n",
       "10         3         3         300       300      90              40   \n",
       "11         3         4         300       300      60              50   \n",
       "\n",
       "    facility_open  transport_amount  \n",
       "0             1.0              80.0  \n",
       "1             1.0               0.0  \n",
       "2             1.0              10.0  \n",
       "3             1.0              60.0  \n",
       "4             1.0               0.0  \n",
       "5             1.0              70.0  \n",
       "6             1.0              80.0  \n",
       "7             1.0               0.0  \n",
       "8            -0.0               0.0  \n",
       "9            -0.0               0.0  \n",
       "10           -0.0               0.0  \n",
       "11           -0.0               0.0  "
      ]
     },
     "execution_count": 42,
     "metadata": {},
     "output_type": "execute_result"
    }
   ],
   "source": [
    "df"
   ]
  },
  {
   "cell_type": "code",
   "execution_count": 45,
   "metadata": {},
   "outputs": [
    {
     "data": {
      "text/html": [
       "<div>\n",
       "<style scoped>\n",
       "    .dataframe tbody tr th:only-of-type {\n",
       "        vertical-align: middle;\n",
       "    }\n",
       "\n",
       "    .dataframe tbody tr th {\n",
       "        vertical-align: top;\n",
       "    }\n",
       "\n",
       "    .dataframe thead th {\n",
       "        text-align: right;\n",
       "    }\n",
       "</style>\n",
       "<table border=\"1\" class=\"dataframe\">\n",
       "  <thead>\n",
       "    <tr style=\"text-align: right;\">\n",
       "      <th></th>\n",
       "      <th>facility</th>\n",
       "      <th>customer</th>\n",
       "      <th>fixed_cost</th>\n",
       "      <th>capacity</th>\n",
       "      <th>demand</th>\n",
       "      <th>transport_cost</th>\n",
       "    </tr>\n",
       "  </thead>\n",
       "  <tbody>\n",
       "    <tr>\n",
       "      <th>0</th>\n",
       "      <td>1</td>\n",
       "      <td>1</td>\n",
       "      <td>100</td>\n",
       "      <td>150</td>\n",
       "      <td>80</td>\n",
       "      <td>10</td>\n",
       "    </tr>\n",
       "    <tr>\n",
       "      <th>1</th>\n",
       "      <td>1</td>\n",
       "      <td>2</td>\n",
       "      <td>100</td>\n",
       "      <td>150</td>\n",
       "      <td>70</td>\n",
       "      <td>20</td>\n",
       "    </tr>\n",
       "    <tr>\n",
       "      <th>2</th>\n",
       "      <td>1</td>\n",
       "      <td>3</td>\n",
       "      <td>100</td>\n",
       "      <td>150</td>\n",
       "      <td>90</td>\n",
       "      <td>30</td>\n",
       "    </tr>\n",
       "    <tr>\n",
       "      <th>3</th>\n",
       "      <td>1</td>\n",
       "      <td>4</td>\n",
       "      <td>100</td>\n",
       "      <td>150</td>\n",
       "      <td>60</td>\n",
       "      <td>40</td>\n",
       "    </tr>\n",
       "    <tr>\n",
       "      <th>4</th>\n",
       "      <td>2</td>\n",
       "      <td>1</td>\n",
       "      <td>200</td>\n",
       "      <td>200</td>\n",
       "      <td>80</td>\n",
       "      <td>15</td>\n",
       "    </tr>\n",
       "    <tr>\n",
       "      <th>5</th>\n",
       "      <td>2</td>\n",
       "      <td>2</td>\n",
       "      <td>200</td>\n",
       "      <td>200</td>\n",
       "      <td>70</td>\n",
       "      <td>25</td>\n",
       "    </tr>\n",
       "    <tr>\n",
       "      <th>6</th>\n",
       "      <td>2</td>\n",
       "      <td>3</td>\n",
       "      <td>200</td>\n",
       "      <td>200</td>\n",
       "      <td>90</td>\n",
       "      <td>35</td>\n",
       "    </tr>\n",
       "    <tr>\n",
       "      <th>7</th>\n",
       "      <td>2</td>\n",
       "      <td>4</td>\n",
       "      <td>200</td>\n",
       "      <td>200</td>\n",
       "      <td>60</td>\n",
       "      <td>45</td>\n",
       "    </tr>\n",
       "    <tr>\n",
       "      <th>8</th>\n",
       "      <td>3</td>\n",
       "      <td>1</td>\n",
       "      <td>300</td>\n",
       "      <td>300</td>\n",
       "      <td>80</td>\n",
       "      <td>20</td>\n",
       "    </tr>\n",
       "    <tr>\n",
       "      <th>9</th>\n",
       "      <td>3</td>\n",
       "      <td>2</td>\n",
       "      <td>300</td>\n",
       "      <td>300</td>\n",
       "      <td>70</td>\n",
       "      <td>30</td>\n",
       "    </tr>\n",
       "    <tr>\n",
       "      <th>10</th>\n",
       "      <td>3</td>\n",
       "      <td>3</td>\n",
       "      <td>300</td>\n",
       "      <td>300</td>\n",
       "      <td>90</td>\n",
       "      <td>40</td>\n",
       "    </tr>\n",
       "    <tr>\n",
       "      <th>11</th>\n",
       "      <td>3</td>\n",
       "      <td>4</td>\n",
       "      <td>300</td>\n",
       "      <td>300</td>\n",
       "      <td>60</td>\n",
       "      <td>50</td>\n",
       "    </tr>\n",
       "  </tbody>\n",
       "</table>\n",
       "</div>"
      ],
      "text/plain": [
       "    facility  customer  fixed_cost  capacity  demand  transport_cost\n",
       "0          1         1         100       150      80              10\n",
       "1          1         2         100       150      70              20\n",
       "2          1         3         100       150      90              30\n",
       "3          1         4         100       150      60              40\n",
       "4          2         1         200       200      80              15\n",
       "5          2         2         200       200      70              25\n",
       "6          2         3         200       200      90              35\n",
       "7          2         4         200       200      60              45\n",
       "8          3         1         300       300      80              20\n",
       "9          3         2         300       300      70              30\n",
       "10         3         3         300       300      90              40\n",
       "11         3         4         300       300      60              50"
      ]
     },
     "execution_count": 45,
     "metadata": {},
     "output_type": "execute_result"
    }
   ],
   "source": [
    "df"
   ]
  },
  {
   "cell_type": "markdown",
   "metadata": {},
   "source": [
    "### Appendix: **Check model components by `.display`**\n",
    "> If data as `dictionary` is needed for further analysis. Refer to the usage of `.get_values()` for decision variables and `.extract_values()` for parameters in the Thesis `Model Implementation` Appendix Chapter."
   ]
  },
  {
   "cell_type": "code",
   "execution_count": 23,
   "metadata": {},
   "outputs": [],
   "source": [
    "# Enumerate names of components in Pyomo\n",
    "compo_categories = [pyo.Var, pyo.Param, pyo.Expression, pyo.Objective, pyo.Constraint]\n",
    "compo_category_name_list = [\"Variable\", \"Param\", \"Expression\", \"Objective\", \"Constraint\"]\n",
    "compo_dictionary = {comp_cat_name: list() for comp_cat_name in compo_category_name_list}\n",
    "for compo_cat_name, compo_cat in zip(compo_category_name_list, compo_categories):\n",
    "    for compo in model.component_objects(compo_cat, active=True):\n",
    "        compo_dictionary[compo_cat_name].append(str(compo))\n",
    "#         print(f\"{compo_cat_name}:\", v)  "
   ]
  },
  {
   "cell_type": "code",
   "execution_count": 24,
   "metadata": {},
   "outputs": [
    {
     "name": "stdout",
     "output_type": "stream",
     "text": [
      "Variable: ['x', 'y']\n",
      "Param: ['f', 'M', 'd', 'c']\n",
      "Expression: []\n",
      "Objective: ['objective']\n",
      "Constraint: ['demand_constraint', 'capacity_constraint']\n"
     ]
    }
   ],
   "source": [
    "for key, value in compo_dictionary.items():\n",
    "    print(f\"{key}: {value}\")"
   ]
  },
  {
   "cell_type": "code",
   "execution_count": null,
   "metadata": {},
   "outputs": [
    {
     "name": "stdout",
     "output_type": "stream",
     "text": [
      "x : Size=3, Index=I\n",
      "    Key : Lower : Value : Upper : Fixed : Stale : Domain\n",
      "      1 :     0 :   1.0 :     1 : False : False : Binary\n",
      "      2 :     0 :   1.0 :     1 : False : False : Binary\n",
      "      3 :     0 :  -0.0 :     1 : False : False : Binary\n"
     ]
    }
   ],
   "source": [
    "model.x.display()"
   ]
  },
  {
   "cell_type": "code",
   "execution_count": 25,
   "metadata": {},
   "outputs": [
    {
     "name": "stdout",
     "output_type": "stream",
     "text": [
      "y : Size=12, Index=y_index\n",
      "    Key    : Lower : Value : Upper : Fixed : Stale : Domain\n",
      "    (1, 1) :     0 :  80.0 :  None : False : False : NonNegativeReals\n",
      "    (1, 2) :     0 :   0.0 :  None : False : False : NonNegativeReals\n",
      "    (1, 3) :     0 :  10.0 :  None : False : False : NonNegativeReals\n",
      "    (1, 4) :     0 :  60.0 :  None : False : False : NonNegativeReals\n",
      "    (2, 1) :     0 :   0.0 :  None : False : False : NonNegativeReals\n",
      "    (2, 2) :     0 :  70.0 :  None : False : False : NonNegativeReals\n",
      "    (2, 3) :     0 :  80.0 :  None : False : False : NonNegativeReals\n",
      "    (2, 4) :     0 :   0.0 :  None : False : False : NonNegativeReals\n",
      "    (3, 1) :     0 :   0.0 :  None : False : False : NonNegativeReals\n",
      "    (3, 2) :     0 :   0.0 :  None : False : False : NonNegativeReals\n",
      "    (3, 3) :     0 :   0.0 :  None : False : False : NonNegativeReals\n",
      "    (3, 4) :     0 :   0.0 :  None : False : False : NonNegativeReals\n"
     ]
    }
   ],
   "source": [
    "model.y.display()"
   ]
  },
  {
   "cell_type": "code",
   "execution_count": 32,
   "metadata": {},
   "outputs": [
    {
     "data": {
      "text/plain": [
       "{(1, 1): 80.0,\n",
       " (1, 2): 0.0,\n",
       " (1, 3): 10.0,\n",
       " (1, 4): 60.0,\n",
       " (2, 1): 0.0,\n",
       " (2, 2): 70.0,\n",
       " (2, 3): 80.0,\n",
       " (2, 4): 0.0,\n",
       " (3, 1): 0.0,\n",
       " (3, 2): 0.0,\n",
       " (3, 3): 0.0,\n",
       " (3, 4): 0.0}"
      ]
     },
     "execution_count": 32,
     "metadata": {},
     "output_type": "execute_result"
    }
   ],
   "source": [
    "model.y.extract_values()"
   ]
  },
  {
   "cell_type": "code",
   "execution_count": 27,
   "metadata": {},
   "outputs": [
    {
     "name": "stdout",
     "output_type": "stream",
     "text": [
      "objective : Size=1, Index=None, Active=True\n",
      "    Key  : Active : Value\n",
      "    None :   True : 8350.0\n"
     ]
    }
   ],
   "source": [
    "model.objective.display()"
   ]
  },
  {
   "cell_type": "code",
   "execution_count": 28,
   "metadata": {},
   "outputs": [
    {
     "name": "stdout",
     "output_type": "stream",
     "text": [
      "demand_constraint : Size=4\n",
      "    Key : Lower : Body : Upper\n",
      "      1 :  80.0 : 80.0 :  80.0\n",
      "      2 :  70.0 : 70.0 :  70.0\n",
      "      3 :  90.0 : 90.0 :  90.0\n",
      "      4 :  60.0 : 60.0 :  60.0\n"
     ]
    }
   ],
   "source": [
    "model.demand_constraint.display()"
   ]
  },
  {
   "cell_type": "code",
   "execution_count": 29,
   "metadata": {},
   "outputs": [
    {
     "name": "stdout",
     "output_type": "stream",
     "text": [
      "capacity_constraint : Size=3\n",
      "    Key : Lower : Body  : Upper\n",
      "      1 :  None :   0.0 :   0.0\n",
      "      2 :  None : -50.0 :   0.0\n",
      "      3 :  None :   0.0 :   0.0\n"
     ]
    }
   ],
   "source": [
    "model.capacity_constraint.display()"
   ]
  },
  {
   "cell_type": "code",
   "execution_count": null,
   "metadata": {},
   "outputs": [],
   "source": []
  }
 ],
 "metadata": {
  "kernelspec": {
   "display_name": "spevcsap",
   "language": "python",
   "name": "python3"
  },
  "language_info": {
   "codemirror_mode": {
    "name": "ipython",
    "version": 3
   },
   "file_extension": ".py",
   "mimetype": "text/x-python",
   "name": "python",
   "nbconvert_exporter": "python",
   "pygments_lexer": "ipython3",
   "version": "3.8.18"
  }
 },
 "nbformat": 4,
 "nbformat_minor": 2
}
