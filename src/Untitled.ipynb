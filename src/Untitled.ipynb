{
 "cells": [
  {
   "cell_type": "code",
   "execution_count": 11,
   "id": "b85e6430-d60c-48b7-8a05-ea41a60212fa",
   "metadata": {},
   "outputs": [],
   "source": [
    "import dantzig as dz"
   ]
  },
  {
   "cell_type": "code",
   "execution_count": 13,
   "id": "d1811104-8187-42c7-ba04-e0cb9ef04bcf",
   "metadata": {},
   "outputs": [],
   "source": [
    "x = dz.Variable(lb=0.0, ub=None)\n",
    "y = dz.Variable(lb=0.0, ub=None)\n",
    "z = dz.Variable(lb=0.0, ub=None)\n",
    "\n",
    "soln = dz.Minimize(x + y - z).subject_to(x + y + z == 1).solve()\n",
    "\n",
    "assert soln.objective_value == -1.0\n",
    "assert soln[x] == 0.0\n",
    "assert soln[y] == 0.0\n",
    "assert soln[z] == 1.0"
   ]
  },
  {
   "cell_type": "code",
   "execution_count": 5,
   "id": "d9a2a61d-886b-4bee-a8f5-b2b72027d236",
   "metadata": {},
   "outputs": [],
   "source": [
    "from dantzig import Min, Var\n",
    "\n",
    "x = Var.nn()\n",
    "y = Var.nn()\n",
    "z = Var.nn()\n",
    "\n",
    "soln = Min(x + y - z).st(x + y + z == 1)"
   ]
  },
  {
   "cell_type": "code",
   "execution_count": 15,
   "id": "58874199-f1a3-4e85-b382-43cebb1ccf1e",
   "metadata": {},
   "outputs": [
    {
     "data": {
      "text/plain": [
       "-1.0"
      ]
     },
     "execution_count": 15,
     "metadata": {},
     "output_type": "execute_result"
    }
   ],
   "source": [
    "soln.objective_value"
   ]
  },
  {
   "cell_type": "code",
   "execution_count": 17,
   "id": "616f4c4f-967e-44e1-a07d-91effb9af974",
   "metadata": {},
   "outputs": [
    {
     "data": {
      "text/plain": [
       "0.0"
      ]
     },
     "execution_count": 17,
     "metadata": {},
     "output_type": "execute_result"
    }
   ],
   "source": [
    "soln[x]"
   ]
  },
  {
   "cell_type": "code",
   "execution_count": null,
   "id": "e3f12f3d-58f3-4d00-acfb-033be20ac7a4",
   "metadata": {},
   "outputs": [],
   "source": []
  }
 ],
 "metadata": {
  "kernelspec": {
   "display_name": "Python 3 (ipykernel)",
   "language": "python",
   "name": "python3"
  },
  "language_info": {
   "codemirror_mode": {
    "name": "ipython",
    "version": 3
   },
   "file_extension": ".py",
   "mimetype": "text/x-python",
   "name": "python",
   "nbconvert_exporter": "python",
   "pygments_lexer": "ipython3",
   "version": "3.12.3"
  }
 },
 "nbformat": 4,
 "nbformat_minor": 5
}
