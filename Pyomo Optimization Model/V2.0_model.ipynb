{
 "cells": [
  {
   "cell_type": "markdown",
   "metadata": {},
   "source": [
    "## Model Setup"
   ]
  },
  {
   "cell_type": "markdown",
   "metadata": {},
   "source": [
    "#### Detect current folder to avoid package import error"
   ]
  },
  {
   "cell_type": "code",
   "execution_count": 3,
   "metadata": {},
   "outputs": [],
   "source": [
    "import os, sys\n",
    "currentdir = os.path.dirname(os.path.realpath(''))\n",
    "parentdir = os.path.dirname(currentdir)\n",
    "sys.path.append(currentdir)"
   ]
  },
  {
   "cell_type": "markdown",
   "metadata": {},
   "source": [
    "#### Import Opensource Packages"
   ]
  },
  {
   "cell_type": "code",
   "execution_count": 4,
   "metadata": {},
   "outputs": [
    {
     "ename": "ImportError",
     "evalue": "Error importing numpy: you should not try to import numpy from\n        its source directory; please exit the numpy source tree, and relaunch\n        your python interpreter from there.",
     "output_type": "error",
     "traceback": [
      "\u001b[0;31m---------------------------------------------------------------------------\u001b[0m",
      "\u001b[0;31mImportError\u001b[0m                               Traceback (most recent call last)",
      "File \u001b[0;32m~/opt/anaconda3/envs/my-idaes-env/lib/python3.10/site-packages/numpy/core/__init__.py:24\u001b[0m\n\u001b[1;32m     23\u001b[0m \u001b[38;5;28;01mtry\u001b[39;00m:\n\u001b[0;32m---> 24\u001b[0m     \u001b[38;5;28;01mfrom\u001b[39;00m \u001b[38;5;21;01m.\u001b[39;00m \u001b[38;5;28;01mimport\u001b[39;00m multiarray\n\u001b[1;32m     25\u001b[0m \u001b[38;5;28;01mexcept\u001b[39;00m \u001b[38;5;167;01mImportError\u001b[39;00m \u001b[38;5;28;01mas\u001b[39;00m exc:\n",
      "File \u001b[0;32m~/opt/anaconda3/envs/my-idaes-env/lib/python3.10/site-packages/numpy/core/multiarray.py:10\u001b[0m\n\u001b[1;32m      9\u001b[0m \u001b[38;5;28;01mimport\u001b[39;00m \u001b[38;5;21;01mfunctools\u001b[39;00m\n\u001b[0;32m---> 10\u001b[0m \u001b[38;5;28;01mfrom\u001b[39;00m \u001b[38;5;21;01m.\u001b[39;00m \u001b[38;5;28;01mimport\u001b[39;00m overrides\n\u001b[1;32m     11\u001b[0m \u001b[38;5;28;01mfrom\u001b[39;00m \u001b[38;5;21;01m.\u001b[39;00m \u001b[38;5;28;01mimport\u001b[39;00m _multiarray_umath\n",
      "File \u001b[0;32m~/opt/anaconda3/envs/my-idaes-env/lib/python3.10/site-packages/numpy/core/overrides.py:8\u001b[0m\n\u001b[1;32m      7\u001b[0m \u001b[38;5;28;01mfrom\u001b[39;00m \u001b[38;5;21;01m.\u001b[39;00m\u001b[38;5;21;01m.\u001b[39;00m\u001b[38;5;21;01m_utils\u001b[39;00m\u001b[38;5;21;01m.\u001b[39;00m\u001b[38;5;21;01m_inspect\u001b[39;00m \u001b[38;5;28;01mimport\u001b[39;00m getargspec\n\u001b[0;32m----> 8\u001b[0m \u001b[38;5;28;01mfrom\u001b[39;00m \u001b[38;5;21;01mnumpy\u001b[39;00m\u001b[38;5;21;01m.\u001b[39;00m\u001b[38;5;21;01mcore\u001b[39;00m\u001b[38;5;21;01m.\u001b[39;00m\u001b[38;5;21;01m_multiarray_umath\u001b[39;00m \u001b[38;5;28;01mimport\u001b[39;00m (\n\u001b[1;32m      9\u001b[0m     add_docstring,  _get_implementing_args, _ArrayFunctionDispatcher)\n\u001b[1;32m     12\u001b[0m ARRAY_FUNCTIONS \u001b[38;5;241m=\u001b[39m \u001b[38;5;28mset\u001b[39m()\n",
      "\u001b[0;31mImportError\u001b[0m: dlopen(/Users/kimdohanici/opt/anaconda3/envs/my-idaes-env/lib/python3.10/site-packages/numpy/core/_multiarray_umath.cpython-310-darwin.so, 0x0002): tried: '/Users/kimdohanici/opt/anaconda3/envs/my-idaes-env/lib/python3.10/site-packages/numpy/core/_multiarray_umath.cpython-310-darwin.so' (mach-o file, but is an incompatible architecture (have 'x86_64', need 'arm64e' or 'arm64')), '/System/Volumes/Preboot/Cryptexes/OS/Users/kimdohanici/opt/anaconda3/envs/my-idaes-env/lib/python3.10/site-packages/numpy/core/_multiarray_umath.cpython-310-darwin.so' (no such file), '/Users/kimdohanici/opt/anaconda3/envs/my-idaes-env/lib/python3.10/site-packages/numpy/core/_multiarray_umath.cpython-310-darwin.so' (mach-o file, but is an incompatible architecture (have 'x86_64', need 'arm64e' or 'arm64'))",
      "\nDuring handling of the above exception, another exception occurred:\n",
      "\u001b[0;31mImportError\u001b[0m                               Traceback (most recent call last)",
      "File \u001b[0;32m~/opt/anaconda3/envs/my-idaes-env/lib/python3.10/site-packages/numpy/__init__.py:130\u001b[0m\n\u001b[1;32m    129\u001b[0m \u001b[38;5;28;01mtry\u001b[39;00m:\n\u001b[0;32m--> 130\u001b[0m     \u001b[38;5;28;01mfrom\u001b[39;00m \u001b[38;5;21;01mnumpy\u001b[39;00m\u001b[38;5;21;01m.\u001b[39;00m\u001b[38;5;21;01m__config__\u001b[39;00m \u001b[38;5;28;01mimport\u001b[39;00m show \u001b[38;5;28;01mas\u001b[39;00m show_config\n\u001b[1;32m    131\u001b[0m \u001b[38;5;28;01mexcept\u001b[39;00m \u001b[38;5;167;01mImportError\u001b[39;00m \u001b[38;5;28;01mas\u001b[39;00m e:\n",
      "File \u001b[0;32m~/opt/anaconda3/envs/my-idaes-env/lib/python3.10/site-packages/numpy/__config__.py:4\u001b[0m\n\u001b[1;32m      3\u001b[0m \u001b[38;5;28;01mfrom\u001b[39;00m \u001b[38;5;21;01menum\u001b[39;00m \u001b[38;5;28;01mimport\u001b[39;00m Enum\n\u001b[0;32m----> 4\u001b[0m \u001b[38;5;28;01mfrom\u001b[39;00m \u001b[38;5;21;01mnumpy\u001b[39;00m\u001b[38;5;21;01m.\u001b[39;00m\u001b[38;5;21;01mcore\u001b[39;00m\u001b[38;5;21;01m.\u001b[39;00m\u001b[38;5;21;01m_multiarray_umath\u001b[39;00m \u001b[38;5;28;01mimport\u001b[39;00m (\n\u001b[1;32m      5\u001b[0m     __cpu_features__,\n\u001b[1;32m      6\u001b[0m     __cpu_baseline__,\n\u001b[1;32m      7\u001b[0m     __cpu_dispatch__,\n\u001b[1;32m      8\u001b[0m )\n\u001b[1;32m     10\u001b[0m __all__ \u001b[38;5;241m=\u001b[39m [\u001b[38;5;124m\"\u001b[39m\u001b[38;5;124mshow\u001b[39m\u001b[38;5;124m\"\u001b[39m]\n",
      "File \u001b[0;32m~/opt/anaconda3/envs/my-idaes-env/lib/python3.10/site-packages/numpy/core/__init__.py:50\u001b[0m\n\u001b[1;32m     27\u001b[0m     msg \u001b[38;5;241m=\u001b[39m \u001b[38;5;124m\"\"\"\u001b[39m\n\u001b[1;32m     28\u001b[0m \n\u001b[1;32m     29\u001b[0m \u001b[38;5;124mIMPORTANT: PLEASE READ THIS FOR ADVICE ON HOW TO SOLVE THIS ISSUE!\u001b[39m\n\u001b[0;32m   (...)\u001b[0m\n\u001b[1;32m     48\u001b[0m \u001b[38;5;124m\"\"\"\u001b[39m \u001b[38;5;241m%\u001b[39m (sys\u001b[38;5;241m.\u001b[39mversion_info[\u001b[38;5;241m0\u001b[39m], sys\u001b[38;5;241m.\u001b[39mversion_info[\u001b[38;5;241m1\u001b[39m], sys\u001b[38;5;241m.\u001b[39mexecutable,\n\u001b[1;32m     49\u001b[0m         __version__, exc)\n\u001b[0;32m---> 50\u001b[0m     \u001b[38;5;28;01mraise\u001b[39;00m \u001b[38;5;167;01mImportError\u001b[39;00m(msg)\n\u001b[1;32m     51\u001b[0m \u001b[38;5;28;01mfinally\u001b[39;00m:\n",
      "\u001b[0;31mImportError\u001b[0m: \n\nIMPORTANT: PLEASE READ THIS FOR ADVICE ON HOW TO SOLVE THIS ISSUE!\n\nImporting the numpy C-extensions failed. This error can happen for\nmany reasons, often due to issues with your setup or how NumPy was\ninstalled.\n\nWe have compiled some common reasons and troubleshooting tips at:\n\n    https://numpy.org/devdocs/user/troubleshooting-importerror.html\n\nPlease note and check the following:\n\n  * The Python version is: Python3.10 from \"/Users/kimdohanici/opt/anaconda3/envs/my-idaes-env/bin/python\"\n  * The NumPy version is: \"1.26.4\"\n\nand make sure that they are the versions you expect.\nPlease carefully study the documentation linked above for further help.\n\nOriginal error was: dlopen(/Users/kimdohanici/opt/anaconda3/envs/my-idaes-env/lib/python3.10/site-packages/numpy/core/_multiarray_umath.cpython-310-darwin.so, 0x0002): tried: '/Users/kimdohanici/opt/anaconda3/envs/my-idaes-env/lib/python3.10/site-packages/numpy/core/_multiarray_umath.cpython-310-darwin.so' (mach-o file, but is an incompatible architecture (have 'x86_64', need 'arm64e' or 'arm64')), '/System/Volumes/Preboot/Cryptexes/OS/Users/kimdohanici/opt/anaconda3/envs/my-idaes-env/lib/python3.10/site-packages/numpy/core/_multiarray_umath.cpython-310-darwin.so' (no such file), '/Users/kimdohanici/opt/anaconda3/envs/my-idaes-env/lib/python3.10/site-packages/numpy/core/_multiarray_umath.cpython-310-darwin.so' (mach-o file, but is an incompatible architecture (have 'x86_64', need 'arm64e' or 'arm64'))\n",
      "\nThe above exception was the direct cause of the following exception:\n",
      "\u001b[0;31mImportError\u001b[0m                               Traceback (most recent call last)",
      "Cell \u001b[0;32mIn[4], line 1\u001b[0m\n\u001b[0;32m----> 1\u001b[0m \u001b[38;5;28;01mimport\u001b[39;00m \u001b[38;5;21;01mnumpy\u001b[39;00m \u001b[38;5;28;01mas\u001b[39;00m \u001b[38;5;21;01mnp\u001b[39;00m\n\u001b[1;32m      2\u001b[0m \u001b[38;5;28;01mimport\u001b[39;00m \u001b[38;5;21;01mpandas\u001b[39;00m \u001b[38;5;28;01mas\u001b[39;00m \u001b[38;5;21;01mpd\u001b[39;00m\n\u001b[1;32m      4\u001b[0m \u001b[38;5;28;01mimport\u001b[39;00m \u001b[38;5;21;01midaes\u001b[39;00m\n",
      "File \u001b[0;32m~/opt/anaconda3/envs/my-idaes-env/lib/python3.10/site-packages/numpy/__init__.py:135\u001b[0m\n\u001b[1;32m    131\u001b[0m \u001b[38;5;28;01mexcept\u001b[39;00m \u001b[38;5;167;01mImportError\u001b[39;00m \u001b[38;5;28;01mas\u001b[39;00m e:\n\u001b[1;32m    132\u001b[0m     msg \u001b[38;5;241m=\u001b[39m \u001b[38;5;124m\"\"\"\u001b[39m\u001b[38;5;124mError importing numpy: you should not try to import numpy from\u001b[39m\n\u001b[1;32m    133\u001b[0m \u001b[38;5;124m    its source directory; please exit the numpy source tree, and relaunch\u001b[39m\n\u001b[1;32m    134\u001b[0m \u001b[38;5;124m    your python interpreter from there.\u001b[39m\u001b[38;5;124m\"\"\"\u001b[39m\n\u001b[0;32m--> 135\u001b[0m     \u001b[38;5;28;01mraise\u001b[39;00m \u001b[38;5;167;01mImportError\u001b[39;00m(msg) \u001b[38;5;28;01mfrom\u001b[39;00m \u001b[38;5;21;01me\u001b[39;00m\n\u001b[1;32m    137\u001b[0m __all__ \u001b[38;5;241m=\u001b[39m [\n\u001b[1;32m    138\u001b[0m     \u001b[38;5;124m'\u001b[39m\u001b[38;5;124mexceptions\u001b[39m\u001b[38;5;124m'\u001b[39m, \u001b[38;5;124m'\u001b[39m\u001b[38;5;124mModuleDeprecationWarning\u001b[39m\u001b[38;5;124m'\u001b[39m, \u001b[38;5;124m'\u001b[39m\u001b[38;5;124mVisibleDeprecationWarning\u001b[39m\u001b[38;5;124m'\u001b[39m,\n\u001b[1;32m    139\u001b[0m     \u001b[38;5;124m'\u001b[39m\u001b[38;5;124mComplexWarning\u001b[39m\u001b[38;5;124m'\u001b[39m, \u001b[38;5;124m'\u001b[39m\u001b[38;5;124mTooHardError\u001b[39m\u001b[38;5;124m'\u001b[39m, \u001b[38;5;124m'\u001b[39m\u001b[38;5;124mAxisError\u001b[39m\u001b[38;5;124m'\u001b[39m]\n\u001b[1;32m    141\u001b[0m \u001b[38;5;66;03m# mapping of {name: (value, deprecation_msg)}\u001b[39;00m\n",
      "\u001b[0;31mImportError\u001b[0m: Error importing numpy: you should not try to import numpy from\n        its source directory; please exit the numpy source tree, and relaunch\n        your python interpreter from there."
     ]
    }
   ],
   "source": [
    "import numpy as np\n",
    "import pandas as pd\n",
    "\n",
    "import idaes\n",
    "import pyomo.environ as pyo"
   ]
  },
  {
   "cell_type": "markdown",
   "metadata": {},
   "source": [
    "## Create Concrete Model"
   ]
  },
  {
   "cell_type": "code",
   "execution_count": null,
   "metadata": {},
   "outputs": [],
   "source": [
    "from pyomo.environ import *\n",
    "\n",
    "model = ConcreteModel(name = \"Price Optimization\")"
   ]
  },
  {
   "cell_type": "markdown",
   "metadata": {},
   "source": [
    "#### Data Import"
   ]
  },
  {
   "cell_type": "code",
   "execution_count": null,
   "metadata": {},
   "outputs": [],
   "source": [
    "import mydata_V2_0\n",
    "Data_dict = mydata_V2_0.Data_dict"
   ]
  },
  {
   "cell_type": "markdown",
   "metadata": {},
   "source": [
    "#### Define Model Sets"
   ]
  },
  {
   "cell_type": "code",
   "execution_count": null,
   "metadata": {},
   "outputs": [],
   "source": [
    "model.I = Set(initialize=Data_dict['countries'])\n",
    "model.J = Set(initialize=Data_dict['sites'])\n",
    "model.T = Set(initialize=Data_dict['time_periods'])"
   ]
  },
  {
   "cell_type": "markdown",
   "metadata": {},
   "source": [
    "### Define Decision Variables"
   ]
  },
  {
   "cell_type": "code",
   "execution_count": null,
   "metadata": {},
   "outputs": [],
   "source": [
    "model.p = Var(\n",
    "    model.I,\n",
    "    model.J, \n",
    "    model.T, \n",
    "    domain=NonNegativeReals,\n",
    "    doc = 'dv: price per kWh'\n",
    ")"
   ]
  },
  {
   "cell_type": "markdown",
   "metadata": {},
   "source": [
    "### Define Parameters"
   ]
  },
  {
   "cell_type": "code",
   "execution_count": null,
   "metadata": {},
   "outputs": [],
   "source": [
    "model.e = Param(model.I, model.T, initialize=Data_dict['cost_energy'], within=NonNegativeReals)\n",
    "model.r = Param(model.I, model.T, initialize=Data_dict['cost_revshare'], within=NonNegativeReals)\n",
    "\n",
    "model.p_max = Param(model.I, model.J, model.T, initialize=Data_dict['p_max'], within=NonNegativeReals)\n",
    "\n",
    "model.d_0 = Param(model.I, model.J, model.T, initialize=Data_dict['d_0'], within=NonNegativeReals)\n",
    "model.d_p = Param(model.I, model.J, model.T, initialize=Data_dict['d_p'], within=NonNegativeReals)\n",
    "model.d_max = Param(model.I, model.J, model.T, initialize=Data_dict['d_max'], within=NonNegativeReals)\n",
    "\n",
    "def demand(model, i, j, t):\n",
    "    '''\n",
    "    Calculates the demand depending on the price for each country, site, and time period.\n",
    "\n",
    "    This function implements a linear demand model where `d_0` is the intercept and `d_p` is the slope of the demand function. \n",
    "    The demand is inversely related to the price.\n",
    "\n",
    "    Args:\n",
    "        model: The model object containing parameters and variables.\n",
    "        i: The index representing the country.\n",
    "        j: The index representing the site.\n",
    "        t: The time period index.\n",
    "\n",
    "    Returns:\n",
    "        float: The calculated demand in kWh for the specified country, site, and time period.\n",
    "        \n",
    "    '''\n",
    "    return model.d_0[i,j,t] - model.d_p[i,j,t] * model.p[i,j,t]\n",
    "model.D = Expression(model.I, model.J, model.T, rule=demand) \n",
    "\n",
    "def total_cost_variable(model, i, j, t):\n",
    "    '''\n",
    "    Calculates the total variable cost for each country, site, and time period.\n",
    "\n",
    "    The total variable cost includes the sum of energy cost and revenue share cost.\n",
    "\n",
    "    Args:\n",
    "        model: The model object containing parameters and variables.\n",
    "        i: The index representing the country.\n",
    "        j: The index representing the site.\n",
    "        t: The time period index.\n",
    "\n",
    "    Returns:\n",
    "        float: The total variable cost in € for the specified country, site, and time period.\n",
    "        \n",
    "    '''\n",
    "    return (\n",
    "        model.e[i,t] * model.D[i,j,t] +\n",
    "        model.r[i,t] * model.p[i,j,t] * model.D[i,j,t]\n",
    "        )\n",
    "model.CV = Expression(model.I, model.J, model.T, rule=total_cost_variable)"
   ]
  },
  {
   "cell_type": "markdown",
   "metadata": {},
   "source": [
    "### Define Objective Function"
   ]
  },
  {
   "cell_type": "code",
   "execution_count": null,
   "metadata": {},
   "outputs": [],
   "source": [
    "def operational_profit(model):\n",
    "    '''\n",
    "    \n",
    "    Calculates the operational profit for each country, site, and time period.\n",
    "    \n",
    "    The operational profit is calculated as the difference between the revenue (price multiplied by demand)\n",
    "    and the total variable costs, summed over all countries, sites, and time periods.\n",
    "    \n",
    "    Args:\n",
    "        model: The model object that contains parameters and variables.\n",
    "        i: The index representing the country.\n",
    "        j: The index representing the site.\n",
    "        t: The time period index.\n",
    "        \n",
    "    Returns:\n",
    "        float: The total operational profit in € across all countries, sites, and time periods.\n",
    "        \n",
    "    '''\n",
    "    return sum(\n",
    "        model.D[i,j,t] * model.p[i,j,t] - model.CV[i,j,t]\n",
    "        for i in model.I for j in model.J for t in model.T \n",
    "    )\n",
    "model.profit = Objective(rule=operational_profit, sense=maximize)"
   ]
  },
  {
   "cell_type": "markdown",
   "metadata": {},
   "source": [
    "### Define Constraints"
   ]
  },
  {
   "cell_type": "code",
   "execution_count": null,
   "metadata": {},
   "outputs": [],
   "source": [
    "def minimum_price(model, i, j, t):\n",
    "    '''\n",
    "    \n",
    "    Defines a constraint ensuring the optimal price for each country, site, and time period is \n",
    "    not lower than the total variable cost.\n",
    "    \n",
    "    This function calculates the variable cost for a given country, site, and time period, then imposes a \n",
    "    constraint that the price (`model.p`) must be greater than or equal to the variable cost.\n",
    "    \n",
    "    Args:\n",
    "        model: The model object containing parameters and variables.\n",
    "        i: The index representing the country.\n",
    "        j: The index representing the site.\n",
    "        t: The time period index.\n",
    "        \n",
    "    Returns:\n",
    "        A Pyomo constraint expression that ensures the price per kWh is not lower than the total variable cost \n",
    "        for each country, site, and time period.\n",
    "        \n",
    "    '''\n",
    "    variable_cost = model.e[i,t] + model.r[i,t] * model.p[i,j,t]\n",
    "    return model.p[i,j,t] >= variable_cost\n",
    "model.price_constraint = Constraint(model.I, model.J, model.T, rule=minimum_price)\n",
    "\n",
    "def maximum_price(model, i, j, t):\n",
    "    '''\n",
    "    \n",
    "    Defines a constraint that ensures the optimal price for each country, site, and time period\n",
    "    does not exceed a predefined maximum price.\n",
    "    \n",
    "    This constraint is important for keeping the price competitive and within market limits.\n",
    "    It uses the model's price variable (`model.p`) and compares it against the maximum allowable price\n",
    "    (`model.p_max`) for each country, site, and time period.\n",
    "    \n",
    "    Args:\n",
    "        model: The model object containing parameters and variables.\n",
    "        i: The index representing the country.\n",
    "        j: The index representing the site.\n",
    "        t: The time period index.\n",
    "        \n",
    "    Returns:\n",
    "        A Pyomo constraint expression that ensures the price per kWh does not exceed the maximum allowable\n",
    "        price for each country, site and time period.\n",
    "        \n",
    "    '''\n",
    "    return model.p[i,j,t] <= model.p_max[i,j,t]\n",
    "model.price_constraint_max = Constraint(model.I, model.J, model.T, rule=maximum_price)\n",
    "\n",
    "def maximum_demand(model, i, j, t):\n",
    "    '''\n",
    "    \n",
    "    Defines a constraint ensuring that the demand for each country, site, and time period\n",
    "    does not exceed a specified maximum demand.\n",
    "    \n",
    "    It compares the demand variable (`model.D`) against the maximum allowable demand (`model.d_max`) for each country, site, and time period.\n",
    "    \n",
    "    Args:\n",
    "        model: The model object containing parameters and variables.\n",
    "        i: The index representing the country.\n",
    "        j: The index representing the site.\n",
    "        t: The time period index.\n",
    "        \n",
    "    Returns:\n",
    "        A Pyomo constraint expression that ensures demand in kWh does not exceed the maximum allowable\n",
    "        demand for each country, site, and time period.\n",
    "        \n",
    "    '''\n",
    "    return model.D[i,j,t] <= model.d_max[i,j,t]\n",
    "model.demand_constraints = Constraint(model.I, model.J, model.T, rule=maximum_demand)"
   ]
  },
  {
   "cell_type": "markdown",
   "metadata": {},
   "source": [
    "## Solving the Model"
   ]
  },
  {
   "cell_type": "markdown",
   "metadata": {},
   "source": [
    "### Optional: Pyomo Configuration  "
   ]
  },
  {
   "cell_type": "markdown",
   "metadata": {},
   "source": [
    "##### Telling Pyomo where the CPLEX executable is located on the drive by setting the environment variable PYOMO_EXE to point to the CPLEX executable & checking the Pyomo configuration"
   ]
  },
  {
   "cell_type": "code",
   "execution_count": null,
   "metadata": {},
   "outputs": [],
   "source": [
    "import os\n",
    "os.environ[\"PYOMO_EXE\"] = \"/Applications/CPLEX_Studio2211/cplex/bin/x86-64_osx/cplex\" # Insert respective path to cplex executable   \n",
    "print(os.environ.get(\"PYOMO_EXE\"))"
   ]
  },
  {
   "cell_type": "markdown",
   "metadata": {},
   "source": [
    "### Solver"
   ]
  },
  {
   "cell_type": "code",
   "execution_count": null,
   "metadata": {},
   "outputs": [],
   "source": [
    "from pyomo.opt import SolverFactory\n",
    "from pyomo.opt import SolverStatus, TerminationCondition\n",
    "\n",
    "# Create a solver instance\n",
    "solver = SolverFactory('cplex', executable=\"/Applications/CPLEX_Studio2211/cplex/bin/x86-64_osx/cplex\") # Insert respective path to cplex executable\n",
    "\n",
    "# Solve the model\n",
    "result = solver.solve(model)\n",
    "\n",
    "# Check the solver status\n",
    "if result.solver.status == SolverStatus.ok and result.solver.termination_condition == TerminationCondition.optimal:\n",
    "    # The model was solved to optimality\n",
    "    print(\"Optimal solution found.\")\n",
    "    # Access the variable values\n",
    "    for var in model.component_data_objects(Var):\n",
    "        print(f\"{var.name}: {var.value}\")\n",
    "else:\n",
    "    # The model failed to solve\n",
    "    print(\"Solver did not find an optimal solution.\")"
   ]
  },
  {
   "cell_type": "markdown",
   "metadata": {},
   "source": [
    "### Display Further Results"
   ]
  },
  {
   "cell_type": "code",
   "execution_count": null,
   "metadata": {},
   "outputs": [],
   "source": [
    "model.D.display()"
   ]
  },
  {
   "cell_type": "code",
   "execution_count": null,
   "metadata": {},
   "outputs": [],
   "source": [
    "model.CV.display()"
   ]
  },
  {
   "cell_type": "code",
   "execution_count": null,
   "metadata": {},
   "outputs": [],
   "source": [
    "model.profit.display()"
   ]
  },
  {
   "cell_type": "code",
   "execution_count": null,
   "metadata": {},
   "outputs": [],
   "source": [
    "model.d_max.display()"
   ]
  },
  {
   "cell_type": "code",
   "execution_count": null,
   "metadata": {},
   "outputs": [],
   "source": [
    "model.p_max.display()"
   ]
  }
 ],
 "metadata": {
  "kernelspec": {
   "display_name": "Python 3 (ipykernel)",
   "language": "python",
   "name": "python3"
  },
  "language_info": {
   "codemirror_mode": {
    "name": "ipython",
    "version": 3
   },
   "file_extension": ".py",
   "mimetype": "text/x-python",
   "name": "python",
   "nbconvert_exporter": "python",
   "pygments_lexer": "ipython3",
   "version": "3.10.14"
  }
 },
 "nbformat": 4,
 "nbformat_minor": 2
}
